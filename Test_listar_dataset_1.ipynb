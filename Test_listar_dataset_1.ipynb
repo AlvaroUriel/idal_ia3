{
  "nbformat": 4,
  "nbformat_minor": 0,
  "metadata": {
    "colab": {
      "name": "Test_listar_dataset_1.ipynb",
      "provenance": [],
      "authorship_tag": "ABX9TyPLGNhWecz3PTdjoUBcnssA",
      "include_colab_link": true
    },
    "kernelspec": {
      "name": "python3",
      "display_name": "Python 3"
    },
    "language_info": {
      "name": "python"
    }
  },
  "cells": [
    {
      "cell_type": "markdown",
      "metadata": {
        "id": "view-in-github",
        "colab_type": "text"
      },
      "source": [
        "<a href=\"https://colab.research.google.com/github/AlvaroUriel/idal_ia3/blob/main/Test_listar_dataset_1.ipynb\" target=\"_parent\"><img src=\"https://colab.research.google.com/assets/colab-badge.svg\" alt=\"Open In Colab\"/></a>"
      ]
    },
    {
      "cell_type": "code",
      "execution_count": 1,
      "metadata": {
        "colab": {
          "base_uri": "https://localhost:8080/"
        },
        "id": "2xyWzV9nw8Ol",
        "outputId": "f2f462a6-0b19-4ae5-ed64-423e85118d56"
      },
      "outputs": [
        {
          "output_type": "stream",
          "name": "stdout",
          "text": [
            "Mounted at /content/drive/\n"
          ]
        }
      ],
      "source": [
        "from  google.colab import drive\n",
        " \n",
        "drive.mount('/content/drive/')"
      ]
    },
    {
      "cell_type": "code",
      "source": [
        "import os\n",
        "import numpy as np\n",
        "import pandas as pd"
      ],
      "metadata": {
        "id": "e_2xkodtibMM"
      },
      "execution_count": 2,
      "outputs": []
    },
    {
      "cell_type": "code",
      "source": [
        "train_path = '/content/drive/MyDrive/IA3/Datasets/Food-11/training'\n",
        "test_path   ='/content/drive/MyDrive/IA3/Datasets/Food-11/evaluation'\n",
        "val_path   = '/content/drive/MyDrive/IA3/Datasets/Food-11/validation'"
      ],
      "metadata": {
        "id": "uZpt_c8G2qRh"
      },
      "execution_count": 5,
      "outputs": []
    },
    {
      "cell_type": "code",
      "source": [
        "class_names = ['Bread', 'Dairy product', 'Dessert', 'Egg', 'Fried food',\n",
        "               'Meat', 'Noodles/Pasta', 'Rice', 'Seafood', 'Soup', 'Vegetable/Fruit']\n",
        "class_names"
      ],
      "metadata": {
        "colab": {
          "base_uri": "https://localhost:8080/"
        },
        "id": "cbc8qPj7aNNe",
        "outputId": "26b3f0e0-9739-46b6-ec55-80372cc14588"
      },
      "execution_count": 22,
      "outputs": [
        {
          "output_type": "execute_result",
          "data": {
            "text/plain": [
              "['Bread',\n",
              " 'Dairy product',\n",
              " 'Dessert',\n",
              " 'Egg',\n",
              " 'Fried food',\n",
              " 'Meat',\n",
              " 'Noodles/Pasta',\n",
              " 'Rice',\n",
              " 'Seafood',\n",
              " 'Soup',\n",
              " 'Vegetable/Fruit']"
            ]
          },
          "metadata": {},
          "execution_count": 22
        }
      ]
    },
    {
      "cell_type": "code",
      "source": [
        "#Creamos listas con todos los nombres de los ficheros \n",
        "train_files = [os.path.join(train_path,img) for img in os.listdir(train_path)]\n",
        "test_files  = [os.path.join(test_path,img)  for img in os.listdir(test_path)]\n",
        "val_files   = [os.path.join(val_path,img)   for img in os.listdir(val_path)]"
      ],
      "metadata": {
        "id": "fKEbCetAiO76"
      },
      "execution_count": 23,
      "outputs": []
    },
    {
      "cell_type": "code",
      "source": [
        "#Observamos como estan nombrados los ficheros\n",
        "print(train_files[0])\n",
        "print(test_files[0])\n",
        "print(val_files[0])"
      ],
      "metadata": {
        "colab": {
          "base_uri": "https://localhost:8080/"
        },
        "id": "tP4EZk-FYqTg",
        "outputId": "e0a75a9e-6388-4727-a0d4-d35d3d664bbc"
      },
      "execution_count": 24,
      "outputs": [
        {
          "output_type": "stream",
          "name": "stdout",
          "text": [
            "/content/drive/MyDrive/IA3/Datasets/Food-11/training/0_869.jpg\n",
            "/content/drive/MyDrive/IA3/Datasets/Food-11/evaluation/9_242.jpg\n",
            "/content/drive/MyDrive/IA3/Datasets/Food-11/validation/9_213.jpg\n"
          ]
        }
      ]
    },
    {
      "cell_type": "code",
      "source": [
        "#Creamos listas con la clase del fichero, para cada fichero\n",
        "train_y = [int(img.split(\"/\")[-1].split(\"_\")[0]) for img in train_files]\n",
        "test_y  = [int(img.split(\"/\")[-1].split(\"_\")[0]) for img in test_files]\n",
        "val_y   = [int(img.split(\"/\")[-1].split(\"_\")[0]) for img in val_files]\n"
      ],
      "metadata": {
        "id": "el4b2dMCjpcV"
      },
      "execution_count": 26,
      "outputs": []
    },
    {
      "cell_type": "code",
      "source": [
        "#Creamos un diccionario para unir las rutas y su clase\n",
        "d_train_y = {'Rutas':train_files,'Clases':train_y}\n",
        "d_test_y  = {'Rutas':test_files, 'Clases':test_y}\n",
        "d_val_y   = {'Rutas':val_files,  'Clases':val_y}"
      ],
      "metadata": {
        "id": "Wc2NZl-3lq2O"
      },
      "execution_count": 27,
      "outputs": []
    },
    {
      "cell_type": "code",
      "source": [
        "#Convertimos el diccionario a un dataFrame de pandas\n",
        "df_train_y = pd.DataFrame(d_train_y)\n",
        "df_test_y  = pd.DataFrame(d_test_y)\n",
        "df_val_y   = pd.DataFrame(d_val_y)\n",
        "\n",
        "df_train_y.head(4)"
      ],
      "metadata": {
        "colab": {
          "base_uri": "https://localhost:8080/",
          "height": 173
        },
        "id": "LXss2mQAixFX",
        "outputId": "6aadf1aa-0b6a-41ac-f2bc-a645e38ad9d6"
      },
      "execution_count": 30,
      "outputs": [
        {
          "output_type": "execute_result",
          "data": {
            "text/plain": [
              "                                               Rutas  Clases\n",
              "0  /content/drive/MyDrive/IA3/Datasets/Food-11/tr...       0\n",
              "1  /content/drive/MyDrive/IA3/Datasets/Food-11/tr...       0\n",
              "2  /content/drive/MyDrive/IA3/Datasets/Food-11/tr...       0\n",
              "3  /content/drive/MyDrive/IA3/Datasets/Food-11/tr...       0"
            ],
            "text/html": [
              "\n",
              "  <div id=\"df-704306eb-dead-4d2e-8e47-caf6ae7ff57f\">\n",
              "    <div class=\"colab-df-container\">\n",
              "      <div>\n",
              "<style scoped>\n",
              "    .dataframe tbody tr th:only-of-type {\n",
              "        vertical-align: middle;\n",
              "    }\n",
              "\n",
              "    .dataframe tbody tr th {\n",
              "        vertical-align: top;\n",
              "    }\n",
              "\n",
              "    .dataframe thead th {\n",
              "        text-align: right;\n",
              "    }\n",
              "</style>\n",
              "<table border=\"1\" class=\"dataframe\">\n",
              "  <thead>\n",
              "    <tr style=\"text-align: right;\">\n",
              "      <th></th>\n",
              "      <th>Rutas</th>\n",
              "      <th>Clases</th>\n",
              "    </tr>\n",
              "  </thead>\n",
              "  <tbody>\n",
              "    <tr>\n",
              "      <th>0</th>\n",
              "      <td>/content/drive/MyDrive/IA3/Datasets/Food-11/tr...</td>\n",
              "      <td>0</td>\n",
              "    </tr>\n",
              "    <tr>\n",
              "      <th>1</th>\n",
              "      <td>/content/drive/MyDrive/IA3/Datasets/Food-11/tr...</td>\n",
              "      <td>0</td>\n",
              "    </tr>\n",
              "    <tr>\n",
              "      <th>2</th>\n",
              "      <td>/content/drive/MyDrive/IA3/Datasets/Food-11/tr...</td>\n",
              "      <td>0</td>\n",
              "    </tr>\n",
              "    <tr>\n",
              "      <th>3</th>\n",
              "      <td>/content/drive/MyDrive/IA3/Datasets/Food-11/tr...</td>\n",
              "      <td>0</td>\n",
              "    </tr>\n",
              "  </tbody>\n",
              "</table>\n",
              "</div>\n",
              "      <button class=\"colab-df-convert\" onclick=\"convertToInteractive('df-704306eb-dead-4d2e-8e47-caf6ae7ff57f')\"\n",
              "              title=\"Convert this dataframe to an interactive table.\"\n",
              "              style=\"display:none;\">\n",
              "        \n",
              "  <svg xmlns=\"http://www.w3.org/2000/svg\" height=\"24px\"viewBox=\"0 0 24 24\"\n",
              "       width=\"24px\">\n",
              "    <path d=\"M0 0h24v24H0V0z\" fill=\"none\"/>\n",
              "    <path d=\"M18.56 5.44l.94 2.06.94-2.06 2.06-.94-2.06-.94-.94-2.06-.94 2.06-2.06.94zm-11 1L8.5 8.5l.94-2.06 2.06-.94-2.06-.94L8.5 2.5l-.94 2.06-2.06.94zm10 10l.94 2.06.94-2.06 2.06-.94-2.06-.94-.94-2.06-.94 2.06-2.06.94z\"/><path d=\"M17.41 7.96l-1.37-1.37c-.4-.4-.92-.59-1.43-.59-.52 0-1.04.2-1.43.59L10.3 9.45l-7.72 7.72c-.78.78-.78 2.05 0 2.83L4 21.41c.39.39.9.59 1.41.59.51 0 1.02-.2 1.41-.59l7.78-7.78 2.81-2.81c.8-.78.8-2.07 0-2.86zM5.41 20L4 18.59l7.72-7.72 1.47 1.35L5.41 20z\"/>\n",
              "  </svg>\n",
              "      </button>\n",
              "      \n",
              "  <style>\n",
              "    .colab-df-container {\n",
              "      display:flex;\n",
              "      flex-wrap:wrap;\n",
              "      gap: 12px;\n",
              "    }\n",
              "\n",
              "    .colab-df-convert {\n",
              "      background-color: #E8F0FE;\n",
              "      border: none;\n",
              "      border-radius: 50%;\n",
              "      cursor: pointer;\n",
              "      display: none;\n",
              "      fill: #1967D2;\n",
              "      height: 32px;\n",
              "      padding: 0 0 0 0;\n",
              "      width: 32px;\n",
              "    }\n",
              "\n",
              "    .colab-df-convert:hover {\n",
              "      background-color: #E2EBFA;\n",
              "      box-shadow: 0px 1px 2px rgba(60, 64, 67, 0.3), 0px 1px 3px 1px rgba(60, 64, 67, 0.15);\n",
              "      fill: #174EA6;\n",
              "    }\n",
              "\n",
              "    [theme=dark] .colab-df-convert {\n",
              "      background-color: #3B4455;\n",
              "      fill: #D2E3FC;\n",
              "    }\n",
              "\n",
              "    [theme=dark] .colab-df-convert:hover {\n",
              "      background-color: #434B5C;\n",
              "      box-shadow: 0px 1px 3px 1px rgba(0, 0, 0, 0.15);\n",
              "      filter: drop-shadow(0px 1px 2px rgba(0, 0, 0, 0.3));\n",
              "      fill: #FFFFFF;\n",
              "    }\n",
              "  </style>\n",
              "\n",
              "      <script>\n",
              "        const buttonEl =\n",
              "          document.querySelector('#df-704306eb-dead-4d2e-8e47-caf6ae7ff57f button.colab-df-convert');\n",
              "        buttonEl.style.display =\n",
              "          google.colab.kernel.accessAllowed ? 'block' : 'none';\n",
              "\n",
              "        async function convertToInteractive(key) {\n",
              "          const element = document.querySelector('#df-704306eb-dead-4d2e-8e47-caf6ae7ff57f');\n",
              "          const dataTable =\n",
              "            await google.colab.kernel.invokeFunction('convertToInteractive',\n",
              "                                                     [key], {});\n",
              "          if (!dataTable) return;\n",
              "\n",
              "          const docLinkHtml = 'Like what you see? Visit the ' +\n",
              "            '<a target=\"_blank\" href=https://colab.research.google.com/notebooks/data_table.ipynb>data table notebook</a>'\n",
              "            + ' to learn more about interactive tables.';\n",
              "          element.innerHTML = '';\n",
              "          dataTable['output_type'] = 'display_data';\n",
              "          await google.colab.output.renderOutput(dataTable, element);\n",
              "          const docLink = document.createElement('div');\n",
              "          docLink.innerHTML = docLinkHtml;\n",
              "          element.appendChild(docLink);\n",
              "        }\n",
              "      </script>\n",
              "    </div>\n",
              "  </div>\n",
              "  "
            ]
          },
          "metadata": {},
          "execution_count": 30
        }
      ]
    },
    {
      "cell_type": "code",
      "source": [
        "#Observamos si las clases estan balanceadas en cuanto a número de muestras\n",
        "print(df_train_y[\"Clases\"].value_counts())\n",
        "print( df_test_y[\"Clases\"].value_counts())\n",
        "print(  df_val_y[\"Clases\"].value_counts())"
      ],
      "metadata": {
        "colab": {
          "base_uri": "https://localhost:8080/"
        },
        "id": "ORCueb5Qm9BE",
        "outputId": "36bcbda0-28d0-47df-deb4-f462efc49d13"
      },
      "execution_count": 47,
      "outputs": [
        {
          "output_type": "stream",
          "name": "stdout",
          "text": [
            "9     1501\n",
            "2     1501\n",
            "5     1325\n",
            "0      996\n",
            "3      987\n",
            "8      856\n",
            "4      848\n",
            "10     709\n",
            "6      441\n",
            "1      429\n",
            "7      280\n",
            "Name: Clases, dtype: int64\n",
            "9     500\n",
            "2     500\n",
            "5     432\n",
            "0     368\n",
            "3     335\n",
            "8     303\n",
            "4     287\n",
            "10    231\n",
            "1     148\n",
            "6     147\n",
            "7      96\n",
            "Name: Clases, dtype: int64\n",
            "9     500\n",
            "2     500\n",
            "5     449\n",
            "0     362\n",
            "8     347\n",
            "3     327\n",
            "4     326\n",
            "10    232\n",
            "6     147\n",
            "1     144\n",
            "7      96\n",
            "Name: Clases, dtype: int64\n"
          ]
        }
      ]
    },
    {
      "cell_type": "code",
      "source": [
        "#De la celda anterior podemos ver que no, que hay clases con mas muestras que otras"
      ],
      "metadata": {
        "id": "DtdsF6_pfxGl"
      },
      "execution_count": 48,
      "outputs": []
    },
    {
      "cell_type": "code",
      "source": [
        "#Observemos ahora si estan balanceadas las divisiones, train, test y val\n",
        "total_clases = df_train_y[\"Clases\"].value_counts()+df_test_y[\"Clases\"].value_counts()+df_val_y[\"Clases\"].value_counts()\n",
        "\n",
        "for index, value in df_train_y[\"Clases\"].value_counts().items():\n",
        "  print (str(index).zfill(2), str(total_clases[index]).zfill(4),\n",
        "         '{0:.4f}'.format(df_train_y[\"Clases\"].value_counts()[index] / total_clases[index]),\n",
        "          '{0:.4f}'.format(df_test_y[\"Clases\"].value_counts()[index] / total_clases[index]),\n",
        "           '{0:.4f}'.format(df_val_y[\"Clases\"].value_counts()[index] / total_clases[index]))"
      ],
      "metadata": {
        "colab": {
          "base_uri": "https://localhost:8080/"
        },
        "id": "rz0js-GqeeJ0",
        "outputId": "9d698c21-86a8-4582-88db-9be96458b2d2"
      },
      "execution_count": 76,
      "outputs": [
        {
          "output_type": "stream",
          "name": "stdout",
          "text": [
            "09 2501 0.6002 0.1999 0.1999\n",
            "02 2501 0.6002 0.1999 0.1999\n",
            "05 2206 0.6006 0.1958 0.2035\n",
            "00 1726 0.5771 0.2132 0.2097\n",
            "03 1649 0.5985 0.2032 0.1983\n",
            "08 1506 0.5684 0.2012 0.2304\n",
            "04 1461 0.5804 0.1964 0.2231\n",
            "10 1172 0.6049 0.1971 0.1980\n",
            "06 0735 0.6000 0.2000 0.2000\n",
            "01 0721 0.5950 0.2053 0.1997\n",
            "07 0472 0.5932 0.2034 0.2034\n"
          ]
        }
      ]
    },
    {
      "cell_type": "code",
      "source": [
        "#De la celda anterior podemos ver que las divisiones train, test y val sí estan balenceadas\n",
        "#independientemente de la clase en un (60,20,20) aproximadamente."
      ],
      "metadata": {
        "id": "8qYah--VkxXn"
      },
      "execution_count": 77,
      "outputs": []
    },
    {
      "cell_type": "code",
      "source": [
        "#Vamos a probar un clasificador con las clases 1, 3, 6\n",
        "print(class_names[1])\n",
        "print(class_names[3])\n",
        "print(class_names[6])"
      ],
      "metadata": {
        "id": "Eekvmcs0qVrv",
        "outputId": "c02b6017-daea-4fc4-e352-8de3a7d2cd5c",
        "colab": {
          "base_uri": "https://localhost:8080/"
        }
      },
      "execution_count": 79,
      "outputs": [
        {
          "output_type": "stream",
          "name": "stdout",
          "text": [
            "Dairy product\n",
            "Egg\n",
            "Noodles/Pasta\n"
          ]
        }
      ]
    },
    {
      "cell_type": "code",
      "source": [
        "#Vamos a seleccionar solo 200 ficheros de cada clase para que esten las clases balanceadas\n",
        "n_samples_train = 10\n",
        "\n",
        "df_train_y_sort=df_train_y[df_train_y['Clases']==1]\n",
        "list_train_y = df_train_y_sort.iloc[0:n_samples_train, 0].tolist()\n",
        "\n",
        "df_train_y_sort=df_train_y[df_train_y['Clases']==3]\n",
        "list_train_y += df_train_y_sort.iloc[0:n_samples_train, 0].tolist()\n",
        "\n",
        "df_train_y_sort=df_train_y[df_train_y['Clases']==6]\n",
        "list_train_y += df_train_y_sort.iloc[0:n_samples_train, 0].tolist()\n",
        "\n",
        "list_train_y\n"
      ],
      "metadata": {
        "colab": {
          "base_uri": "https://localhost:8080/"
        },
        "id": "KmIIOJHqpRpY",
        "outputId": "b827a10f-0c0e-473c-c16c-1cb28ed335ea"
      },
      "execution_count": 108,
      "outputs": [
        {
          "output_type": "execute_result",
          "data": {
            "text/plain": [
              "['/content/drive/MyDrive/IA3/Datasets/Food-11/training/1_146.jpg',\n",
              " '/content/drive/MyDrive/IA3/Datasets/Food-11/training/1_193.jpg',\n",
              " '/content/drive/MyDrive/IA3/Datasets/Food-11/training/1_63.jpg',\n",
              " '/content/drive/MyDrive/IA3/Datasets/Food-11/training/1_168.jpg',\n",
              " '/content/drive/MyDrive/IA3/Datasets/Food-11/training/1_217.jpg',\n",
              " '/content/drive/MyDrive/IA3/Datasets/Food-11/training/1_269.jpg',\n",
              " '/content/drive/MyDrive/IA3/Datasets/Food-11/training/1_404.jpg',\n",
              " '/content/drive/MyDrive/IA3/Datasets/Food-11/training/1_306.jpg',\n",
              " '/content/drive/MyDrive/IA3/Datasets/Food-11/training/1_418.jpg',\n",
              " '/content/drive/MyDrive/IA3/Datasets/Food-11/training/1_393.jpg',\n",
              " '/content/drive/MyDrive/IA3/Datasets/Food-11/training/3_706.jpg',\n",
              " '/content/drive/MyDrive/IA3/Datasets/Food-11/training/3_112.jpg',\n",
              " '/content/drive/MyDrive/IA3/Datasets/Food-11/training/3_308.jpg',\n",
              " '/content/drive/MyDrive/IA3/Datasets/Food-11/training/3_805.jpg',\n",
              " '/content/drive/MyDrive/IA3/Datasets/Food-11/training/3_529.jpg',\n",
              " '/content/drive/MyDrive/IA3/Datasets/Food-11/training/3_307.jpg',\n",
              " '/content/drive/MyDrive/IA3/Datasets/Food-11/training/3_815.jpg',\n",
              " '/content/drive/MyDrive/IA3/Datasets/Food-11/training/3_748.jpg',\n",
              " '/content/drive/MyDrive/IA3/Datasets/Food-11/training/3_457.jpg',\n",
              " '/content/drive/MyDrive/IA3/Datasets/Food-11/training/3_639.jpg',\n",
              " '/content/drive/MyDrive/IA3/Datasets/Food-11/training/6_62.jpg',\n",
              " '/content/drive/MyDrive/IA3/Datasets/Food-11/training/6_154.jpg',\n",
              " '/content/drive/MyDrive/IA3/Datasets/Food-11/training/6_204.jpg',\n",
              " '/content/drive/MyDrive/IA3/Datasets/Food-11/training/6_210.jpg',\n",
              " '/content/drive/MyDrive/IA3/Datasets/Food-11/training/6_74.jpg',\n",
              " '/content/drive/MyDrive/IA3/Datasets/Food-11/training/6_133.jpg',\n",
              " '/content/drive/MyDrive/IA3/Datasets/Food-11/training/6_217.jpg',\n",
              " '/content/drive/MyDrive/IA3/Datasets/Food-11/training/6_209.jpg',\n",
              " '/content/drive/MyDrive/IA3/Datasets/Food-11/training/6_360.jpg',\n",
              " '/content/drive/MyDrive/IA3/Datasets/Food-11/training/6_239.jpg']"
            ]
          },
          "metadata": {},
          "execution_count": 108
        }
      ]
    }
  ]
}