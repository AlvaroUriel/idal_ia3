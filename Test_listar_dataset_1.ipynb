{
  "nbformat": 4,
  "nbformat_minor": 0,
  "metadata": {
    "colab": {
      "name": "Test_listar_dataset_1.ipynb",
      "provenance": [],
      "authorship_tag": "ABX9TyNQWRMKS/ix3Z4oC4d4PnHi",
      "include_colab_link": true
    },
    "kernelspec": {
      "name": "python3",
      "display_name": "Python 3"
    },
    "language_info": {
      "name": "python"
    }
  },
  "cells": [
    {
      "cell_type": "markdown",
      "metadata": {
        "id": "view-in-github",
        "colab_type": "text"
      },
      "source": [
        "<a href=\"https://colab.research.google.com/github/AlvaroUriel/idal_ia3/blob/main/Test_listar_dataset_1.ipynb\" target=\"_parent\"><img src=\"https://colab.research.google.com/assets/colab-badge.svg\" alt=\"Open In Colab\"/></a>"
      ]
    },
    {
      "cell_type": "code",
      "execution_count": 1,
      "metadata": {
        "colab": {
          "base_uri": "https://localhost:8080/"
        },
        "id": "2xyWzV9nw8Ol",
        "outputId": "789506aa-99f6-4718-e7a0-9f14d3995cac"
      },
      "outputs": [
        {
          "output_type": "stream",
          "name": "stdout",
          "text": [
            "Mounted at /content/drive/\n"
          ]
        }
      ],
      "source": [
        "from  google.colab import drive\n",
        " \n",
        "drive.mount('/content/drive/')"
      ]
    },
    {
      "cell_type": "code",
      "source": [
        "import os\n",
        "import numpy as np\n",
        "import pandas as pd"
      ],
      "metadata": {
        "id": "e_2xkodtibMM"
      },
      "execution_count": 3,
      "outputs": []
    },
    {
      "cell_type": "code",
      "source": [
        "train_path = '/content/drive/MyDrive/IA3/Datasets/food_3_100_30_30/training'\n",
        "val_path   = '/content/drive/MyDrive/IA3/Datasets/food_3_100_30_30/validation'\n",
        "test_path   = '/content/drive/MyDrive/IA3/Datasets/food_3_100_30_30/evaluation'"
      ],
      "metadata": {
        "id": "uZpt_c8G2qRh"
      },
      "execution_count": 2,
      "outputs": []
    },
    {
      "cell_type": "code",
      "source": [
        "#Creamos listas con todos los nombres de los ficheros \n",
        "train_files = [os.path.join(train_path,img) for img in os.listdir(train_path)]\n",
        "val_files   = [os.path.join(val_path,img) for img in os.listdir(val_path)]\n",
        "test_files  = [os.path.join(val_path,img) for img in os.listdir(val_path)]\n"
      ],
      "metadata": {
        "id": "fKEbCetAiO76"
      },
      "execution_count": 19,
      "outputs": []
    },
    {
      "cell_type": "code",
      "source": [
        "#Creamos listas con la clase del fichero, para cada fichero\n",
        "train_y = [int(img.split(\"/\")[-1].split(\"_\")[0]) for img in train_files]"
      ],
      "metadata": {
        "id": "el4b2dMCjpcV"
      },
      "execution_count": 20,
      "outputs": []
    },
    {
      "cell_type": "code",
      "source": [
        "#Creamos un diccionario para unir las rutas y su clase\n",
        "d = {'Rutas':train_files,'Clases':train_y}\n",
        "d"
      ],
      "metadata": {
        "id": "Wc2NZl-3lq2O"
      },
      "execution_count": null,
      "outputs": []
    },
    {
      "cell_type": "code",
      "source": [
        "#Convertimos el diccionario a un dataFrame de pandas\n",
        "miDataSet = pd.DataFrame(d)\n",
        "miDataSet"
      ],
      "metadata": {
        "colab": {
          "base_uri": "https://localhost:8080/",
          "height": 419
        },
        "id": "LXss2mQAixFX",
        "outputId": "599e7e48-4b77-434b-a59e-2c0795543b77"
      },
      "execution_count": 24,
      "outputs": [
        {
          "output_type": "execute_result",
          "data": {
            "text/plain": [
              "                                                 Rutas  Clases\n",
              "0    /content/drive/MyDrive/IA3/Datasets/food_3_100...       1\n",
              "1    /content/drive/MyDrive/IA3/Datasets/food_3_100...       1\n",
              "2    /content/drive/MyDrive/IA3/Datasets/food_3_100...       1\n",
              "3    /content/drive/MyDrive/IA3/Datasets/food_3_100...       1\n",
              "4    /content/drive/MyDrive/IA3/Datasets/food_3_100...       1\n",
              "..                                                 ...     ...\n",
              "295  /content/drive/MyDrive/IA3/Datasets/food_3_100...       0\n",
              "296  /content/drive/MyDrive/IA3/Datasets/food_3_100...       0\n",
              "297  /content/drive/MyDrive/IA3/Datasets/food_3_100...       0\n",
              "298  /content/drive/MyDrive/IA3/Datasets/food_3_100...       0\n",
              "299  /content/drive/MyDrive/IA3/Datasets/food_3_100...       0\n",
              "\n",
              "[300 rows x 2 columns]"
            ],
            "text/html": [
              "\n",
              "  <div id=\"df-4bcfa50e-896b-499b-901b-ba7f9c0c5087\">\n",
              "    <div class=\"colab-df-container\">\n",
              "      <div>\n",
              "<style scoped>\n",
              "    .dataframe tbody tr th:only-of-type {\n",
              "        vertical-align: middle;\n",
              "    }\n",
              "\n",
              "    .dataframe tbody tr th {\n",
              "        vertical-align: top;\n",
              "    }\n",
              "\n",
              "    .dataframe thead th {\n",
              "        text-align: right;\n",
              "    }\n",
              "</style>\n",
              "<table border=\"1\" class=\"dataframe\">\n",
              "  <thead>\n",
              "    <tr style=\"text-align: right;\">\n",
              "      <th></th>\n",
              "      <th>Rutas</th>\n",
              "      <th>Clases</th>\n",
              "    </tr>\n",
              "  </thead>\n",
              "  <tbody>\n",
              "    <tr>\n",
              "      <th>0</th>\n",
              "      <td>/content/drive/MyDrive/IA3/Datasets/food_3_100...</td>\n",
              "      <td>1</td>\n",
              "    </tr>\n",
              "    <tr>\n",
              "      <th>1</th>\n",
              "      <td>/content/drive/MyDrive/IA3/Datasets/food_3_100...</td>\n",
              "      <td>1</td>\n",
              "    </tr>\n",
              "    <tr>\n",
              "      <th>2</th>\n",
              "      <td>/content/drive/MyDrive/IA3/Datasets/food_3_100...</td>\n",
              "      <td>1</td>\n",
              "    </tr>\n",
              "    <tr>\n",
              "      <th>3</th>\n",
              "      <td>/content/drive/MyDrive/IA3/Datasets/food_3_100...</td>\n",
              "      <td>1</td>\n",
              "    </tr>\n",
              "    <tr>\n",
              "      <th>4</th>\n",
              "      <td>/content/drive/MyDrive/IA3/Datasets/food_3_100...</td>\n",
              "      <td>1</td>\n",
              "    </tr>\n",
              "    <tr>\n",
              "      <th>...</th>\n",
              "      <td>...</td>\n",
              "      <td>...</td>\n",
              "    </tr>\n",
              "    <tr>\n",
              "      <th>295</th>\n",
              "      <td>/content/drive/MyDrive/IA3/Datasets/food_3_100...</td>\n",
              "      <td>0</td>\n",
              "    </tr>\n",
              "    <tr>\n",
              "      <th>296</th>\n",
              "      <td>/content/drive/MyDrive/IA3/Datasets/food_3_100...</td>\n",
              "      <td>0</td>\n",
              "    </tr>\n",
              "    <tr>\n",
              "      <th>297</th>\n",
              "      <td>/content/drive/MyDrive/IA3/Datasets/food_3_100...</td>\n",
              "      <td>0</td>\n",
              "    </tr>\n",
              "    <tr>\n",
              "      <th>298</th>\n",
              "      <td>/content/drive/MyDrive/IA3/Datasets/food_3_100...</td>\n",
              "      <td>0</td>\n",
              "    </tr>\n",
              "    <tr>\n",
              "      <th>299</th>\n",
              "      <td>/content/drive/MyDrive/IA3/Datasets/food_3_100...</td>\n",
              "      <td>0</td>\n",
              "    </tr>\n",
              "  </tbody>\n",
              "</table>\n",
              "<p>300 rows × 2 columns</p>\n",
              "</div>\n",
              "      <button class=\"colab-df-convert\" onclick=\"convertToInteractive('df-4bcfa50e-896b-499b-901b-ba7f9c0c5087')\"\n",
              "              title=\"Convert this dataframe to an interactive table.\"\n",
              "              style=\"display:none;\">\n",
              "        \n",
              "  <svg xmlns=\"http://www.w3.org/2000/svg\" height=\"24px\"viewBox=\"0 0 24 24\"\n",
              "       width=\"24px\">\n",
              "    <path d=\"M0 0h24v24H0V0z\" fill=\"none\"/>\n",
              "    <path d=\"M18.56 5.44l.94 2.06.94-2.06 2.06-.94-2.06-.94-.94-2.06-.94 2.06-2.06.94zm-11 1L8.5 8.5l.94-2.06 2.06-.94-2.06-.94L8.5 2.5l-.94 2.06-2.06.94zm10 10l.94 2.06.94-2.06 2.06-.94-2.06-.94-.94-2.06-.94 2.06-2.06.94z\"/><path d=\"M17.41 7.96l-1.37-1.37c-.4-.4-.92-.59-1.43-.59-.52 0-1.04.2-1.43.59L10.3 9.45l-7.72 7.72c-.78.78-.78 2.05 0 2.83L4 21.41c.39.39.9.59 1.41.59.51 0 1.02-.2 1.41-.59l7.78-7.78 2.81-2.81c.8-.78.8-2.07 0-2.86zM5.41 20L4 18.59l7.72-7.72 1.47 1.35L5.41 20z\"/>\n",
              "  </svg>\n",
              "      </button>\n",
              "      \n",
              "  <style>\n",
              "    .colab-df-container {\n",
              "      display:flex;\n",
              "      flex-wrap:wrap;\n",
              "      gap: 12px;\n",
              "    }\n",
              "\n",
              "    .colab-df-convert {\n",
              "      background-color: #E8F0FE;\n",
              "      border: none;\n",
              "      border-radius: 50%;\n",
              "      cursor: pointer;\n",
              "      display: none;\n",
              "      fill: #1967D2;\n",
              "      height: 32px;\n",
              "      padding: 0 0 0 0;\n",
              "      width: 32px;\n",
              "    }\n",
              "\n",
              "    .colab-df-convert:hover {\n",
              "      background-color: #E2EBFA;\n",
              "      box-shadow: 0px 1px 2px rgba(60, 64, 67, 0.3), 0px 1px 3px 1px rgba(60, 64, 67, 0.15);\n",
              "      fill: #174EA6;\n",
              "    }\n",
              "\n",
              "    [theme=dark] .colab-df-convert {\n",
              "      background-color: #3B4455;\n",
              "      fill: #D2E3FC;\n",
              "    }\n",
              "\n",
              "    [theme=dark] .colab-df-convert:hover {\n",
              "      background-color: #434B5C;\n",
              "      box-shadow: 0px 1px 3px 1px rgba(0, 0, 0, 0.15);\n",
              "      filter: drop-shadow(0px 1px 2px rgba(0, 0, 0, 0.3));\n",
              "      fill: #FFFFFF;\n",
              "    }\n",
              "  </style>\n",
              "\n",
              "      <script>\n",
              "        const buttonEl =\n",
              "          document.querySelector('#df-4bcfa50e-896b-499b-901b-ba7f9c0c5087 button.colab-df-convert');\n",
              "        buttonEl.style.display =\n",
              "          google.colab.kernel.accessAllowed ? 'block' : 'none';\n",
              "\n",
              "        async function convertToInteractive(key) {\n",
              "          const element = document.querySelector('#df-4bcfa50e-896b-499b-901b-ba7f9c0c5087');\n",
              "          const dataTable =\n",
              "            await google.colab.kernel.invokeFunction('convertToInteractive',\n",
              "                                                     [key], {});\n",
              "          if (!dataTable) return;\n",
              "\n",
              "          const docLinkHtml = 'Like what you see? Visit the ' +\n",
              "            '<a target=\"_blank\" href=https://colab.research.google.com/notebooks/data_table.ipynb>data table notebook</a>'\n",
              "            + ' to learn more about interactive tables.';\n",
              "          element.innerHTML = '';\n",
              "          dataTable['output_type'] = 'display_data';\n",
              "          await google.colab.output.renderOutput(dataTable, element);\n",
              "          const docLink = document.createElement('div');\n",
              "          docLink.innerHTML = docLinkHtml;\n",
              "          element.appendChild(docLink);\n",
              "        }\n",
              "      </script>\n",
              "    </div>\n",
              "  </div>\n",
              "  "
            ]
          },
          "metadata": {},
          "execution_count": 24
        }
      ]
    },
    {
      "cell_type": "code",
      "source": [
        "#Observamos si las clases estan balanceadas\n",
        "miDataSet[\"Clases\"].value_counts()"
      ],
      "metadata": {
        "colab": {
          "base_uri": "https://localhost:8080/"
        },
        "id": "ORCueb5Qm9BE",
        "outputId": "f6524721-4c03-4509-8d90-8628e8fa9eab"
      },
      "execution_count": 35,
      "outputs": [
        {
          "output_type": "execute_result",
          "data": {
            "text/plain": [
              "1    100\n",
              "2    100\n",
              "0    100\n",
              "Name: Clases, dtype: int64"
            ]
          },
          "metadata": {},
          "execution_count": 35
        }
      ]
    },
    {
      "cell_type": "code",
      "source": [
        "#Vamos a seleccionar solo 40 ficheros como prueba\n",
        "miDataSetSort=miDataSet[miDataSet['Clases']==0]\n",
        "#miDataSetSort.iloc[0:40, 0].tolist()\n",
        "miDataSetSort['Rutas'].head(40)"
      ],
      "metadata": {
        "colab": {
          "base_uri": "https://localhost:8080/"
        },
        "id": "KmIIOJHqpRpY",
        "outputId": "5e339d21-0fd9-4f07-dcce-a37f0e228ac5"
      },
      "execution_count": 73,
      "outputs": [
        {
          "output_type": "execute_result",
          "data": {
            "text/plain": [
              "200    /content/drive/MyDrive/IA3/Datasets/food_3_100...\n",
              "201    /content/drive/MyDrive/IA3/Datasets/food_3_100...\n",
              "202    /content/drive/MyDrive/IA3/Datasets/food_3_100...\n",
              "203    /content/drive/MyDrive/IA3/Datasets/food_3_100...\n",
              "204    /content/drive/MyDrive/IA3/Datasets/food_3_100...\n",
              "205    /content/drive/MyDrive/IA3/Datasets/food_3_100...\n",
              "206    /content/drive/MyDrive/IA3/Datasets/food_3_100...\n",
              "207    /content/drive/MyDrive/IA3/Datasets/food_3_100...\n",
              "208    /content/drive/MyDrive/IA3/Datasets/food_3_100...\n",
              "209    /content/drive/MyDrive/IA3/Datasets/food_3_100...\n",
              "210    /content/drive/MyDrive/IA3/Datasets/food_3_100...\n",
              "211    /content/drive/MyDrive/IA3/Datasets/food_3_100...\n",
              "212    /content/drive/MyDrive/IA3/Datasets/food_3_100...\n",
              "213    /content/drive/MyDrive/IA3/Datasets/food_3_100...\n",
              "214    /content/drive/MyDrive/IA3/Datasets/food_3_100...\n",
              "215    /content/drive/MyDrive/IA3/Datasets/food_3_100...\n",
              "216    /content/drive/MyDrive/IA3/Datasets/food_3_100...\n",
              "217    /content/drive/MyDrive/IA3/Datasets/food_3_100...\n",
              "218    /content/drive/MyDrive/IA3/Datasets/food_3_100...\n",
              "219    /content/drive/MyDrive/IA3/Datasets/food_3_100...\n",
              "220    /content/drive/MyDrive/IA3/Datasets/food_3_100...\n",
              "221    /content/drive/MyDrive/IA3/Datasets/food_3_100...\n",
              "222    /content/drive/MyDrive/IA3/Datasets/food_3_100...\n",
              "223    /content/drive/MyDrive/IA3/Datasets/food_3_100...\n",
              "224    /content/drive/MyDrive/IA3/Datasets/food_3_100...\n",
              "225    /content/drive/MyDrive/IA3/Datasets/food_3_100...\n",
              "226    /content/drive/MyDrive/IA3/Datasets/food_3_100...\n",
              "227    /content/drive/MyDrive/IA3/Datasets/food_3_100...\n",
              "228    /content/drive/MyDrive/IA3/Datasets/food_3_100...\n",
              "229    /content/drive/MyDrive/IA3/Datasets/food_3_100...\n",
              "230    /content/drive/MyDrive/IA3/Datasets/food_3_100...\n",
              "231    /content/drive/MyDrive/IA3/Datasets/food_3_100...\n",
              "232    /content/drive/MyDrive/IA3/Datasets/food_3_100...\n",
              "233    /content/drive/MyDrive/IA3/Datasets/food_3_100...\n",
              "234    /content/drive/MyDrive/IA3/Datasets/food_3_100...\n",
              "235    /content/drive/MyDrive/IA3/Datasets/food_3_100...\n",
              "236    /content/drive/MyDrive/IA3/Datasets/food_3_100...\n",
              "237    /content/drive/MyDrive/IA3/Datasets/food_3_100...\n",
              "238    /content/drive/MyDrive/IA3/Datasets/food_3_100...\n",
              "239    /content/drive/MyDrive/IA3/Datasets/food_3_100...\n",
              "Name: Rutas, dtype: object"
            ]
          },
          "metadata": {},
          "execution_count": 73
        }
      ]
    }
  ]
}