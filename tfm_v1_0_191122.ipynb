{
  "nbformat": 4,
  "nbformat_minor": 0,
  "metadata": {
    "colab": {
      "provenance": [],
      "authorship_tag": "ABX9TyNZb8k9mXvKnOGcOUQ5igmd",
      "include_colab_link": true
    },
    "kernelspec": {
      "name": "python3",
      "display_name": "Python 3"
    },
    "language_info": {
      "name": "python"
    }
  },
  "cells": [
    {
      "cell_type": "markdown",
      "metadata": {
        "id": "view-in-github",
        "colab_type": "text"
      },
      "source": [
        "<a href=\"https://colab.research.google.com/github/AlvaroUriel/idal_ia3/blob/main/tfm_v1_0_191122.ipynb\" target=\"_parent\"><img src=\"https://colab.research.google.com/assets/colab-badge.svg\" alt=\"Open In Colab\"/></a>"
      ]
    },
    {
      "cell_type": "code",
      "execution_count": 27,
      "metadata": {
        "colab": {
          "base_uri": "https://localhost:8080/"
        },
        "id": "lZgiuqrN96Hj",
        "outputId": "bf0aa2ee-5732-4fca-f8bb-405bfe930a35"
      },
      "outputs": [
        {
          "output_type": "stream",
          "name": "stdout",
          "text": [
            "Drive already mounted at /content/drive/; to attempt to forcibly remount, call drive.mount(\"/content/drive/\", force_remount=True).\n"
          ]
        }
      ],
      "source": [
        "from  google.colab import drive\n",
        " \n",
        "drive.mount('/content/drive/')"
      ]
    },
    {
      "cell_type": "code",
      "source": [
        "import numpy as np\n",
        "import pandas as pd\n",
        "import xml.etree.ElementTree as ET\n",
        "\n",
        "import matplotlib.pyplot as plt; \n",
        "from tensorflow.keras.utils import load_img, img_to_array\n",
        "import matplotlib.patches as patches\n",
        "import os"
      ],
      "metadata": {
        "id": "2PBas49p_ZZw"
      },
      "execution_count": 24,
      "outputs": []
    },
    {
      "cell_type": "code",
      "source": [
        "xml_path = '/content/drive/MyDrive/IA3/TFM/archive/YOLO/annotations/Copia de BikesHelmets0.xml'\n",
        "img_path = '/content/drive/MyDrive/IA3/TFM/archive/YOLO/images/Copia de BikesHelmets0.png'"
      ],
      "metadata": {
        "id": "qSPmnj-d_AnS"
      },
      "execution_count": 13,
      "outputs": []
    },
    {
      "cell_type": "code",
      "source": [
        "# Convert Pascal_Voc bb to Yolo\n",
        "def pascal_voc_to_yolo(x1, y1, x2, y2, image_w, image_h):\n",
        "    return [((x2 + x1)/(2*image_w)), ((y2 + y1)/(2*image_h)), (x2 - x1)/image_w, (y2 - y1)/image_h]"
      ],
      "metadata": {
        "id": "Otp8v2gYADIj"
      },
      "execution_count": 7,
      "outputs": []
    },
    {
      "cell_type": "code",
      "source": [
        "tree=ET.parse(xml_path)\n",
        "\n",
        "imgW = int (tree.find('size').find('width').text)\n",
        "imgH = int (tree.find('size').find('height').text)\n",
        "\n",
        "for element in tree.findall('object'):\n",
        "\n",
        "  xmin = int(element.find(\"bndbox\").find('xmin').text)\n",
        "  ymin = int(element.find(\"bndbox\").find('ymin').text)\n",
        "  xmax = int(element.find(\"bndbox\").find('xmax').text)\n",
        "  ymax = int(element.find(\"bndbox\").find('ymax').text)\n",
        "\n",
        "  print(imgW, imgH, xmin, ymin, xmax, ymax)\n",
        "\n",
        "  print(pascal_voc_to_yolo(xmin, ymin, xmax, ymax, imgW, imgH))"
      ],
      "metadata": {
        "colab": {
          "base_uri": "https://localhost:8080/"
        },
        "id": "PdwVHYBH_blo",
        "outputId": "19a14652-fbb0-4780-b7e7-90c4a09d9b50"
      },
      "execution_count": 11,
      "outputs": [
        {
          "output_type": "stream",
          "name": "stdout",
          "text": [
            "400 267 29 105 82 160\n",
            "[0.13875, 0.49625468164794007, 0.1325, 0.20599250936329588]\n",
            "400 267 122 66 193 154\n",
            "[0.39375, 0.41198501872659177, 0.1775, 0.3295880149812734]\n",
            "400 267 201 43 246 98\n",
            "[0.55875, 0.2640449438202247, 0.1125, 0.20599250936329588]\n",
            "400 267 307 17 371 107\n",
            "[0.8475, 0.23220973782771537, 0.16, 0.33707865168539325]\n"
          ]
        }
      ]
    },
    {
      "cell_type": "code",
      "source": [
        "os.listdir('/content/drive/MyDrive/IA3/TFM/archive/YOLO/')"
      ],
      "metadata": {
        "colab": {
          "base_uri": "https://localhost:8080/"
        },
        "id": "wy06kaPcEZZz",
        "outputId": "915450fa-92c4-4333-df6a-b39cf2917e11"
      },
      "execution_count": 32,
      "outputs": [
        {
          "output_type": "execute_result",
          "data": {
            "text/plain": [
              "['images', 'annotations', '0.txt']"
            ]
          },
          "metadata": {},
          "execution_count": 32
        }
      ]
    },
    {
      "cell_type": "code",
      "source": [
        "!mkdir /content/drive/MyDrive/IA3/TFM/archive/YOLO/labels/"
      ],
      "metadata": {
        "id": "R8eMyP6GGAB9"
      },
      "execution_count": 35,
      "outputs": []
    },
    {
      "cell_type": "code",
      "source": [
        "nuevo_archivo = open(\"/content/drive/MyDrive/IA3/TFM/archive/YOLO/labels/1.txt\", \"w\")\n",
        "nuevo_archivo.write(str(0) + \" \" + str(0.5646) + \"\\n\")\n",
        "nuevo_archivo.close()"
      ],
      "metadata": {
        "id": "ky8sga3jFK8N"
      },
      "execution_count": 48,
      "outputs": []
    },
    {
      "cell_type": "code",
      "source": [
        "tree=ET.parse(xml_path)\n",
        "\n",
        "imgW = int (tree.find('size').find('width').text)\n",
        "imgH = int (tree.find('size').find('height').text)\n",
        "\n",
        "nuevo_archivo = open(\"/content/drive/MyDrive/IA3/TFM/archive/YOLO/labels/0.txt\", \"w\")\n",
        "\n",
        "for element in tree.findall('object'):\n",
        "\n",
        "  xmin = int(element.find(\"bndbox\").find('xmin').text)\n",
        "  ymin = int(element.find(\"bndbox\").find('ymin').text)\n",
        "  xmax = int(element.find(\"bndbox\").find('xmax').text)\n",
        "  ymax = int(element.find(\"bndbox\").find('ymax').text)\n",
        "\n",
        "  p = pascal_voc_to_yolo(xmin, ymin, xmax, ymax, imgW, imgH)\n",
        "\n",
        "  nuevo_archivo.write(str(0) + \" \" + str(p[0]) + \" \" + str(p[1]) + \" \" + str(p[2]) + \" \" + str(p[3]) + \"\\n\")\n",
        "\n",
        "nuevo_archivo.close()  "
      ],
      "metadata": {
        "id": "YOy_qIlQTnRY"
      },
      "execution_count": 49,
      "outputs": []
    }
  ]
}