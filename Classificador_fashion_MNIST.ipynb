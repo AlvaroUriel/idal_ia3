{
  "nbformat": 4,
  "nbformat_minor": 0,
  "metadata": {
    "accelerator": "GPU",
    "colab": {
      "name": "Classificador_fashion_MNIST.ipynb",
      "provenance": [],
      "collapsed_sections": [],
      "include_colab_link": true
    },
    "kernelspec": {
      "display_name": "Python 3",
      "language": "python",
      "name": "python3"
    },
    "language_info": {
      "codemirror_mode": {
        "name": "ipython",
        "version": 3
      },
      "file_extension": ".py",
      "mimetype": "text/x-python",
      "name": "python",
      "nbconvert_exporter": "python",
      "pygments_lexer": "ipython3",
      "version": "3.8.8"
    }
  },
  "cells": [
    {
      "cell_type": "markdown",
      "metadata": {
        "id": "view-in-github",
        "colab_type": "text"
      },
      "source": [
        "<a href=\"https://colab.research.google.com/github/AlvaroUriel/idal_ia3/blob/main/Classificador_fashion_MNIST.ipynb\" target=\"_parent\"><img src=\"https://colab.research.google.com/assets/colab-badge.svg\" alt=\"Open In Colab\"/></a>"
      ]
    },
    {
      "cell_type": "code",
      "metadata": {
        "id": "eoGb_Yw13eEE"
      },
      "source": [
        "from tensorflow import keras"
      ],
      "execution_count": 1,
      "outputs": []
    },
    {
      "cell_type": "markdown",
      "metadata": {
        "id": "eoKiX_lL0pf5"
      },
      "source": [
        "## Ejemplo: clasificador de imágenes usando Keras\n",
        "\n",
        "Para ilustrar la manera en que Keras es usado en el aprendizaje profundo, realizaremos un ejemplo de clasificación usando conjunto de datos *Fashion MNIST* el cual consta de 70,000 imágenes (las imágenes representan artículos de moda) en escala de grises de 28 × 28 píxeles cada una y con 10 clases. \n",
        "\n",
        "### Uso de Keras para cargar el conjunto de datos\n",
        "\n",
        "Comencemos cargando el conjunto de datos Fashion MNIST. Keras tiene una serie de funciones para cargar conjuntos de datos populares en keras.datasets. El conjunto de datos ya está dividido entre un conjunto de entrenamiento y un conjunto de prueba, pero puede ser útil dividir aún más el conjunto de entrenamiento para tener un conjunto de validación:\n",
        "\n",
        "\n",
        "\n",
        "\n"
      ]
    },
    {
      "cell_type": "code",
      "metadata": {
        "id": "Gzwdt_sB0J1n"
      },
      "source": [
        "from keras.datasets import fashion_mnist"
      ],
      "execution_count": 7,
      "outputs": []
    },
    {
      "cell_type": "code",
      "metadata": {
        "id": "5Rc0_ejg2wrI"
      },
      "source": [
        "fashion_mnist = keras.datasets.fashion_mnist\n",
        "(X_train_full, y_train_full), (X_test, y_test) = fashion_mnist.load_data()"
      ],
      "execution_count": 146,
      "outputs": []
    },
    {
      "cell_type": "markdown",
      "metadata": {
        "id": "E2yxNVfK5xNc"
      },
      "source": [
        "El conjunto de entrenamiento contiene 60,000 imágenes en escala de grises, cada una de 28x28 píxeles. Visualiza el tamaño del conjunto en la siguiente celda:"
      ]
    },
    {
      "cell_type": "code",
      "metadata": {
        "colab": {
          "base_uri": "https://localhost:8080/"
        },
        "id": "CMTlwFptabTV",
        "outputId": "3897de58-ce37-422a-fb64-80307689aa70"
      },
      "source": [
        "import numpy as np\n",
        "np.shape(X_train_full)"
      ],
      "execution_count": 147,
      "outputs": [
        {
          "output_type": "execute_result",
          "data": {
            "text/plain": [
              "(60000, 28, 28)"
            ]
          },
          "metadata": {},
          "execution_count": 147
        }
      ]
    },
    {
      "cell_type": "code",
      "metadata": {
        "colab": {
          "base_uri": "https://localhost:8080/"
        },
        "id": "dxICbJYiis7h",
        "outputId": "967876b4-0e4c-4290-a860-b530f3bb4ac2"
      },
      "source": [
        "np.shape(y_train_full)"
      ],
      "execution_count": 148,
      "outputs": [
        {
          "output_type": "execute_result",
          "data": {
            "text/plain": [
              "(60000,)"
            ]
          },
          "metadata": {},
          "execution_count": 148
        }
      ]
    },
    {
      "cell_type": "code",
      "metadata": {
        "id": "mJWT0_0p22Kb"
      },
      "source": [
        ""
      ],
      "execution_count": 148,
      "outputs": []
    },
    {
      "cell_type": "markdown",
      "metadata": {
        "id": "Z_pNaHwm75gv"
      },
      "source": [
        "La intensidad de cada píxel se representa como un byte (enteros entre 0 a 255):"
      ]
    },
    {
      "cell_type": "code",
      "metadata": {
        "colab": {
          "base_uri": "https://localhost:8080/"
        },
        "id": "pRnupX-r43j0",
        "outputId": "b9ab0552-4e96-4bdd-b6dd-7383cc280ec0"
      },
      "source": [
        "X_train_full.dtype"
      ],
      "execution_count": 149,
      "outputs": [
        {
          "output_type": "execute_result",
          "data": {
            "text/plain": [
              "dtype('uint8')"
            ]
          },
          "metadata": {},
          "execution_count": 149
        }
      ]
    },
    {
      "cell_type": "markdown",
      "metadata": {
        "id": "FZeGps0sMX9z"
      },
      "source": [
        "A continuación visualiza utilizando `matplotlib` el primer elemento del conjunto de entrenamiento (visualiza la matrix de valores) y comprueba el valor máximo y mínimo con una \"*colorbar*\". Además calcula de manera analítica los valores máximo y mínimo de la matriz."
      ]
    },
    {
      "cell_type": "code",
      "metadata": {
        "id": "5D4QCv7hM3zP"
      },
      "source": [
        "import matplotlib.pyplot as plt \n",
        "import seaborn as sns; sns.set()"
      ],
      "execution_count": 150,
      "outputs": []
    },
    {
      "cell_type": "code",
      "metadata": {
        "colab": {
          "base_uri": "https://localhost:8080/",
          "height": 373
        },
        "id": "ymONPEaQfgoK",
        "outputId": "f2a9a482-f6a4-4036-b4d9-3058b0ef92db"
      },
      "source": [
        "X_train_full[0]\n",
        "print(X_train_full[0].min())\n",
        "print(X_train_full[0].max())\n",
        "plt.imshow(X_train_full[0], cmap='binary', )\n",
        "plt.grid(None)\n",
        "plt.axes(None)\n",
        "plt.colorbar()"
      ],
      "execution_count": 151,
      "outputs": [
        {
          "output_type": "stream",
          "name": "stdout",
          "text": [
            "0\n",
            "255\n"
          ]
        },
        {
          "output_type": "stream",
          "name": "stderr",
          "text": [
            "/usr/local/lib/python3.7/dist-packages/ipykernel_launcher.py:6: MatplotlibDeprecationWarning: Adding an axes using the same arguments as a previous axes currently reuses the earlier instance.  In a future version, a new instance will always be created and returned.  Meanwhile, this warning can be suppressed, and the future behavior ensured, by passing a unique label to each axes instance.\n",
            "  \n"
          ]
        },
        {
          "output_type": "execute_result",
          "data": {
            "text/plain": [
              "<matplotlib.colorbar.Colorbar at 0x7ff2a4ba8690>"
            ]
          },
          "metadata": {},
          "execution_count": 151
        },
        {
          "output_type": "display_data",
          "data": {
            "image/png": "[encoded data removed]",
            "text/plain": [
              "<Figure size 432x288 with 2 Axes>"
            ]
          },
          "metadata": {}
        }
      ]
    },
    {
      "cell_type": "code",
      "metadata": {
        "id": "JrCMlChaM-ne"
      },
      "source": [
        ""
      ],
      "execution_count": 151,
      "outputs": []
    },
    {
      "cell_type": "markdown",
      "metadata": {
        "id": "SHVIm3Ba8k8j"
      },
      "source": [
        "**Ahora** dividamos el conjunto de datos de entrenamiento en un conjunto de validación y un conjunto de entrenamiento (más pequeño). También escalamos las intensidades de píxeles en el rango 0-1 y las convertimos en flotantes al dividiéndolas por 255."
      ]
    },
    {
      "cell_type": "code",
      "metadata": {
        "colab": {
          "base_uri": "https://localhost:8080/"
        },
        "id": "4BiiSMr4hpgG",
        "outputId": "bc9653dc-a100-4cd2-e79b-ea595a05cb7c"
      },
      "source": [
        "X_train = X_train_full[5000:60000,:,:]/255.0\n",
        "print(np.shape(X_train))\n",
        "X_valid = X_train_full[0:5000,:,:]/255.0\n",
        "print(np.shape(X_valid))\n",
        "y_train = y_train_full[5000:60000]\n",
        "print(np.shape(Y_train))\n",
        "y_valid = y_train_full[0:5000]\n",
        "print(np.shape(Y_valid))\n",
        "X_test = X_test/255.0\n",
        "print(np.shape(X_test))"
      ],
      "execution_count": 152,
      "outputs": [
        {
          "output_type": "stream",
          "name": "stdout",
          "text": [
            "(55000, 28, 28)\n",
            "(5000, 28, 28)\n",
            "(55000,)\n",
            "(5000,)\n",
            "(10000, 28, 28)\n"
          ]
        }
      ]
    },
    {
      "cell_type": "markdown",
      "metadata": {
        "id": "yZkbwEA19U5n"
      },
      "source": [
        "Visualicemos de nuevo la primera imagen del conjunto de datos usando y calculemos el máximo y mínimo para comprobar que hemos escalado bién. Comprueba además que los datos son de tipo `float`"
      ]
    },
    {
      "cell_type": "code",
      "metadata": {
        "colab": {
          "base_uri": "https://localhost:8080/",
          "height": 377
        },
        "id": "-7-XgQn6kkMk",
        "outputId": "2ab4d8de-2409-4319-942d-4caf55b4fd3f"
      },
      "source": [
        "plt.imshow(X_train[0], cmap='binary', )\n",
        "plt.grid(None)\n",
        "plt.axes(None)\n",
        "plt.colorbar()\n",
        "\n",
        "print(X_train[0].min())\n",
        "print(X_train[0].max())\n",
        "print(X_train[0].dtype)"
      ],
      "execution_count": 153,
      "outputs": [
        {
          "output_type": "stream",
          "name": "stdout",
          "text": [
            "0.0\n",
            "1.0\n",
            "float64\n"
          ]
        },
        {
          "output_type": "stream",
          "name": "stderr",
          "text": [
            "/usr/local/lib/python3.7/dist-packages/ipykernel_launcher.py:3: MatplotlibDeprecationWarning: Adding an axes using the same arguments as a previous axes currently reuses the earlier instance.  In a future version, a new instance will always be created and returned.  Meanwhile, this warning can be suppressed, and the future behavior ensured, by passing a unique label to each axes instance.\n",
            "  This is separate from the ipykernel package so we can avoid doing imports until\n"
          ]
        },
        {
          "output_type": "display_data",
          "data": {
            "image/png": "[encoded data removed]",
            "text/plain": [
              "<Figure size 432x288 with 2 Axes>"
            ]
          },
          "metadata": {}
        }
      ]
    },
    {
      "cell_type": "code",
      "metadata": {
        "id": "LO3P6C6N9Ys6"
      },
      "source": [
        ""
      ],
      "execution_count": 153,
      "outputs": []
    },
    {
      "cell_type": "markdown",
      "metadata": {
        "id": "_M2U8x_y9zn-"
      },
      "source": [
        "Las etiquetas van de 0 a 9, por lo que hay 10 tipos diferentes de ropa. Comprueba analitacamente que efectivamente, el vector `y_train` solamente tiene valores entre 0 y 9."
      ]
    },
    {
      "cell_type": "code",
      "metadata": {
        "colab": {
          "base_uri": "https://localhost:8080/"
        },
        "id": "heeqzmGVmtuL",
        "outputId": "b878e349-4f79-4407-8020-14bfaeae1757"
      },
      "source": [
        "np.unique(y_train)"
      ],
      "execution_count": 154,
      "outputs": [
        {
          "output_type": "execute_result",
          "data": {
            "text/plain": [
              "array([0, 1, 2, 3, 4, 5, 6, 7, 8, 9], dtype=uint8)"
            ]
          },
          "metadata": {},
          "execution_count": 154
        }
      ]
    },
    {
      "cell_type": "code",
      "metadata": {
        "id": "JDVBx8FO-LgA"
      },
      "source": [
        "import numpy as np"
      ],
      "execution_count": 155,
      "outputs": []
    },
    {
      "cell_type": "code",
      "metadata": {
        "id": "wH0JSon39Z8F"
      },
      "source": [
        ""
      ],
      "execution_count": 155,
      "outputs": []
    },
    {
      "cell_type": "markdown",
      "metadata": {
        "id": "OVuZTuwN-Ujp"
      },
      "source": [
        "Los nombres para cada una de las clases anteriores son: "
      ]
    },
    {
      "cell_type": "code",
      "metadata": {
        "id": "rgX0QvkV98Il"
      },
      "source": [
        "class_names = [\"T-shirt/top\", \"Trouser\", \"Pullover\", \"Dress\", \"Coat\",\n",
        "               \"Sandal\", \"Shirt\", \"Sneaker\", \"Bag\", \"Ankle boot\"]"
      ],
      "execution_count": 156,
      "outputs": []
    },
    {
      "cell_type": "markdown",
      "metadata": {
        "id": "SbAmTL2wPMDv"
      },
      "source": [
        "Por lo tanto, la clase 0 se corresponde con \"T-shirt/top\", la clase 1 con \"Trouser\" y así sucesivamente."
      ]
    },
    {
      "cell_type": "markdown",
      "metadata": {
        "id": "zw-gJmK7-qmc"
      },
      "source": [
        "Comprueba que la primera imagen en el conjunto de entrenamiento es un abrigo (Coat)"
      ]
    },
    {
      "cell_type": "code",
      "metadata": {
        "colab": {
          "base_uri": "https://localhost:8080/",
          "height": 37
        },
        "id": "Cz9CCSa4nFjy",
        "outputId": "4ba6cfd1-660b-4bab-a518-e41032503a94"
      },
      "source": [
        "class_names[y_train[0]]"
      ],
      "execution_count": 157,
      "outputs": [
        {
          "output_type": "execute_result",
          "data": {
            "application/vnd.google.colaboratory.intrinsic+json": {
              "type": "string"
            },
            "text/plain": [
              "'Coat'"
            ]
          },
          "metadata": {},
          "execution_count": 157
        }
      ]
    },
    {
      "cell_type": "code",
      "metadata": {
        "id": "BThb_pJK-ZpA"
      },
      "source": [
        ""
      ],
      "execution_count": 157,
      "outputs": []
    },
    {
      "cell_type": "markdown",
      "metadata": {
        "id": "NGTh1v2u_AuD"
      },
      "source": [
        "El conjunto de validación contiene 5,000 imágenes, y el conjunto de test contiene 10,000 imágenes. Comprueba las dimensiones de dichos conjuntos."
      ]
    },
    {
      "cell_type": "code",
      "metadata": {
        "colab": {
          "base_uri": "https://localhost:8080/"
        },
        "id": "IkeCljrtnwh3",
        "outputId": "ee9d1123-b13e-4285-b394-712397d0cbf3"
      },
      "source": [
        "print(np.shape(X_valid))\n",
        "print(np.shape(X_test))"
      ],
      "execution_count": 158,
      "outputs": [
        {
          "output_type": "stream",
          "name": "stdout",
          "text": [
            "(5000, 28, 28)\n",
            "(10000, 28, 28)\n"
          ]
        }
      ]
    },
    {
      "cell_type": "code",
      "metadata": {
        "id": "SofDeaM9Aklm"
      },
      "source": [
        ""
      ],
      "execution_count": 158,
      "outputs": []
    },
    {
      "cell_type": "code",
      "metadata": {
        "id": "fX4z_5o1BPC4"
      },
      "source": [
        ""
      ],
      "execution_count": 158,
      "outputs": []
    },
    {
      "cell_type": "markdown",
      "metadata": {
        "id": "Wb53If_5_FXr"
      },
      "source": [
        "visualicemos ahora algunas de las imágenes de los datos de entrenamiento con su respectiva etiqueta"
      ]
    },
    {
      "cell_type": "code",
      "metadata": {
        "colab": {
          "base_uri": "https://localhost:8080/",
          "height": 310
        },
        "id": "vmhpdhMepgqQ",
        "outputId": "4dcacdff-eb3b-4941-edb0-9ce1e229c45e"
      },
      "source": [
        "fig, ax = plt.subplots(nrows=3, ncols=10, figsize=(15,5))\n",
        "for i, ax in enumerate(ax.flat):\n",
        "  ax.imshow(X_train[i], cmap='binary')\n",
        "  ax.set_axis_off()\n",
        "  ax.set_title(class_names[y_train[i]])\n"
      ],
      "execution_count": 159,
      "outputs": [
        {
          "output_type": "display_data",
          "data": {
            "image/png": "[encoded data removed]",
            "text/plain": [
              "<Figure size 1080x360 with 30 Axes>"
            ]
          },
          "metadata": {}
        }
      ]
    },
    {
      "cell_type": "code",
      "metadata": {
        "id": "ueEfL0_l_ERq"
      },
      "source": [
        ""
      ],
      "execution_count": 159,
      "outputs": []
    },
    {
      "cell_type": "markdown",
      "metadata": {
        "id": "ZQpJetqBAE_G"
      },
      "source": [
        "## Uso de Keras para crean un modelo de aprendizaje profundo \n"
      ]
    },
    {
      "cell_type": "code",
      "metadata": {
        "id": "Mf3T-mTrDWwN"
      },
      "source": [
        "keras.backend.clear_session()"
      ],
      "execution_count": 160,
      "outputs": []
    },
    {
      "cell_type": "markdown",
      "metadata": {
        "id": "YWPbzoU1PzPJ"
      },
      "source": [
        "Crea un modelo con la api de keras que tenga 2 capas ocultas de 300 y 100 neuronas respectivamente con función de activación *Relu*:"
      ]
    },
    {
      "cell_type": "code",
      "metadata": {
        "id": "k8bwYESv_q4T"
      },
      "source": [
        "model = keras.models.Sequential()\n",
        "model.add(keras.layers.Flatten(input_shape = [28,28]))\n",
        "model.add(keras.layers.Dense(300, activation='relu'))\n",
        "model.add(keras.layers.Dense(100, activation='relu'))\n",
        "model.add(keras.layers.Dense(10, activation='softmax'))\n",
        "\n",
        "\n",
        "input = keras.layers.Input(shape=(28,28))\n",
        "flatten = keras.layers.Flatten()(input)\n",
        "hidden_1 = keras.layers.Dense(300, activation='relu')(flatten)\n",
        "hidden_2 = keras.layers.Dense(100, activation='relu')(hidden_1)\n",
        "output = keras.layers.Dense(10, activation='softmax')(hidden_2)\n",
        "model_2 = keras.Model(inputs=input, outputs=output)\n"
      ],
      "execution_count": 161,
      "outputs": []
    },
    {
      "cell_type": "code",
      "metadata": {
        "colab": {
          "base_uri": "https://localhost:8080/"
        },
        "id": "zfa9Q_Q35Gbh",
        "outputId": "00235922-4d6d-4d61-b882-01f741cc959d"
      },
      "source": [
        "model.summary()"
      ],
      "execution_count": 162,
      "outputs": [
        {
          "output_type": "stream",
          "name": "stdout",
          "text": [
            "Model: \"sequential\"\n",
            "_________________________________________________________________\n",
            "Layer (type)                 Output Shape              Param #   \n",
            "=================================================================\n",
            "flatten (Flatten)            (None, 784)               0         \n",
            "_________________________________________________________________\n",
            "dense (Dense)                (None, 300)               235500    \n",
            "_________________________________________________________________\n",
            "dense_1 (Dense)              (None, 100)               30100     \n",
            "_________________________________________________________________\n",
            "dense_2 (Dense)              (None, 10)                1010      \n",
            "=================================================================\n",
            "Total params: 266,610\n",
            "Trainable params: 266,610\n",
            "Non-trainable params: 0\n",
            "_________________________________________________________________\n"
          ]
        }
      ]
    },
    {
      "cell_type": "markdown",
      "metadata": {
        "id": "ZVgSPV5Oyb9g"
      },
      "source": [
        ""
      ]
    },
    {
      "cell_type": "markdown",
      "metadata": {
        "id": "5gNU2QbZanJD"
      },
      "source": [
        "Utiliza el método `summary()`para visualizar el resumen de las capas y parámetros del modelo creado."
      ]
    },
    {
      "cell_type": "code",
      "metadata": {
        "id": "NXRM66UtA1_6"
      },
      "source": [
        ""
      ],
      "execution_count": 162,
      "outputs": []
    },
    {
      "cell_type": "markdown",
      "metadata": {
        "id": "rF8jSbXFDrM-"
      },
      "source": [
        "## Compilando el modelo\n",
        "\n",
        "Después de crear un modelo, se debe llamar el método `compile()` para especificar la función de pérdida y el optimizador a utilizar. Opcionalmente, también puede especificar una lista de métricas  para calcular durante el entrenamiento y la evaluación:"
      ]
    },
    {
      "cell_type": "code",
      "metadata": {
        "id": "wrlSfUbS5-hS"
      },
      "source": [
        "model.compile(loss='sparse_categorical_crossentropy',\n",
        "              optimizer='sgd',\n",
        "              metrics=[\"accuracy\"])"
      ],
      "execution_count": 163,
      "outputs": []
    },
    {
      "cell_type": "markdown",
      "metadata": {
        "id": "1mjB4LdpFDXF"
      },
      "source": [
        "## Entrenando y evaluando el modelo"
      ]
    },
    {
      "cell_type": "markdown",
      "metadata": {
        "id": "5hUzUbzhGk1r"
      },
      "source": [
        "Ahora el modelo está listo para ser entrenado. Para esto simplemente necesitamos llamar a su método `fit()`. Le pasamos las características de entrada (X_train) y las clases de salida (y_train), así como la cantidad de épocas para entrenar (o de lo contrario, sería predeterminado a solo 1). También pasamos un conjunto de validación (esto es opcional): Keras medirá el `loss` y las métricas adicionales en este conjunto al final de cada época, lo cual es muy útil para ver qué cómo de bien se comporta el modelo realmente. Haz el `fit` del modelo y guárdalo en una variable llamada `history`"
      ]
    },
    {
      "cell_type": "code",
      "metadata": {
        "colab": {
          "base_uri": "https://localhost:8080/"
        },
        "id": "HLXcmFck6dWX",
        "outputId": "3db50ab9-24a2-491e-9fc9-0f40631af29d"
      },
      "source": [
        "history = model.fit(X_train, y_train, epochs=20, validation_data=(X_valid, y_valid))"
      ],
      "execution_count": 164,
      "outputs": [
        {
          "output_type": "stream",
          "name": "stdout",
          "text": [
            "Epoch 1/20\n",
            "1719/1719 [==============================] - 7s 4ms/step - loss: 0.7204 - accuracy: 0.7619 - val_loss: 0.5038 - val_accuracy: 0.8288\n",
            "Epoch 2/20\n",
            "1719/1719 [==============================] - 6s 4ms/step - loss: 0.4889 - accuracy: 0.8305 - val_loss: 0.4960 - val_accuracy: 0.8252\n",
            "Epoch 3/20\n",
            "1719/1719 [==============================] - 6s 4ms/step - loss: 0.4457 - accuracy: 0.8442 - val_loss: 0.4091 - val_accuracy: 0.8594\n",
            "Epoch 4/20\n",
            "1719/1719 [==============================] - 6s 4ms/step - loss: 0.4182 - accuracy: 0.8536 - val_loss: 0.3956 - val_accuracy: 0.8668\n",
            "Epoch 5/20\n",
            "1719/1719 [==============================] - 6s 4ms/step - loss: 0.3972 - accuracy: 0.8603 - val_loss: 0.4137 - val_accuracy: 0.8590\n",
            "Epoch 6/20\n",
            "1719/1719 [==============================] - 6s 4ms/step - loss: 0.3809 - accuracy: 0.8651 - val_loss: 0.3877 - val_accuracy: 0.8650\n",
            "Epoch 7/20\n",
            "1719/1719 [==============================] - 6s 3ms/step - loss: 0.3666 - accuracy: 0.8697 - val_loss: 0.3639 - val_accuracy: 0.8736\n",
            "Epoch 8/20\n",
            "1719/1719 [==============================] - 6s 4ms/step - loss: 0.3557 - accuracy: 0.8737 - val_loss: 0.3601 - val_accuracy: 0.8764\n",
            "Epoch 9/20\n",
            "1719/1719 [==============================] - 6s 4ms/step - loss: 0.3448 - accuracy: 0.8781 - val_loss: 0.3532 - val_accuracy: 0.8746\n",
            "Epoch 10/20\n",
            "1719/1719 [==============================] - 6s 4ms/step - loss: 0.3348 - accuracy: 0.8814 - val_loss: 0.3485 - val_accuracy: 0.8734\n",
            "Epoch 11/20\n",
            "1719/1719 [==============================] - 6s 4ms/step - loss: 0.3263 - accuracy: 0.8839 - val_loss: 0.3439 - val_accuracy: 0.8798\n",
            "Epoch 12/20\n",
            "1719/1719 [==============================] - 6s 4ms/step - loss: 0.3173 - accuracy: 0.8868 - val_loss: 0.3476 - val_accuracy: 0.8782\n",
            "Epoch 13/20\n",
            "1719/1719 [==============================] - 6s 3ms/step - loss: 0.3106 - accuracy: 0.8899 - val_loss: 0.3320 - val_accuracy: 0.8812\n",
            "Epoch 14/20\n",
            "1719/1719 [==============================] - 6s 4ms/step - loss: 0.3028 - accuracy: 0.8907 - val_loss: 0.3334 - val_accuracy: 0.8820\n",
            "Epoch 15/20\n",
            "1719/1719 [==============================] - 6s 3ms/step - loss: 0.2965 - accuracy: 0.8937 - val_loss: 0.3364 - val_accuracy: 0.8830\n",
            "Epoch 16/20\n",
            "1719/1719 [==============================] - 6s 4ms/step - loss: 0.2907 - accuracy: 0.8952 - val_loss: 0.3424 - val_accuracy: 0.8772\n",
            "Epoch 17/20\n",
            "1719/1719 [==============================] - 6s 4ms/step - loss: 0.2846 - accuracy: 0.8970 - val_loss: 0.3250 - val_accuracy: 0.8858\n",
            "Epoch 18/20\n",
            "1719/1719 [==============================] - 6s 4ms/step - loss: 0.2796 - accuracy: 0.8988 - val_loss: 0.3157 - val_accuracy: 0.8886\n",
            "Epoch 19/20\n",
            "1719/1719 [==============================] - 6s 4ms/step - loss: 0.2747 - accuracy: 0.9000 - val_loss: 0.3217 - val_accuracy: 0.8840\n",
            "Epoch 20/20\n",
            "1719/1719 [==============================] - 6s 4ms/step - loss: 0.2688 - accuracy: 0.9026 - val_loss: 0.3225 - val_accuracy: 0.8844\n"
          ]
        }
      ]
    },
    {
      "cell_type": "code",
      "metadata": {
        "colab": {
          "base_uri": "https://localhost:8080/",
          "height": 697
        },
        "id": "g54_sBZjEskv",
        "outputId": "5982632f-6286-43b9-d227-6bdeb4f2fd77"
      },
      "source": [
        ""
      ],
      "execution_count": null,
      "outputs": [
        {
          "name": "stdout",
          "output_type": "stream",
          "text": [
            "Epoch 1/20\n",
            "1719/1719 [==============================] - 5s 3ms/step - loss: 0.7203 - accuracy: 0.7656 - val_loss: 0.5158 - val_accuracy: 0.8256\n",
            "Epoch 2/20\n",
            "1719/1719 [==============================] - 5s 3ms/step - loss: 0.4896 - accuracy: 0.8275 - val_loss: 0.4638 - val_accuracy: 0.8378\n",
            "Epoch 3/20\n",
            "1719/1719 [==============================] - 5s 3ms/step - loss: 0.4452 - accuracy: 0.8433 - val_loss: 0.4161 - val_accuracy: 0.8592\n",
            "Epoch 4/20\n",
            "1719/1719 [==============================] - 5s 3ms/step - loss: 0.4191 - accuracy: 0.8520 - val_loss: 0.4453 - val_accuracy: 0.8428\n",
            "Epoch 5/20\n",
            "1719/1719 [==============================] - 5s 3ms/step - loss: 0.3977 - accuracy: 0.8598 - val_loss: 0.3847 - val_accuracy: 0.8654\n",
            "Epoch 6/20\n",
            "1719/1719 [==============================] - 5s 3ms/step - loss: 0.3816 - accuracy: 0.8662 - val_loss: 0.4108 - val_accuracy: 0.8510\n",
            "Epoch 7/20\n",
            "1719/1719 [==============================] - 5s 3ms/step - loss: 0.3677 - accuracy: 0.8702 - val_loss: 0.3682 - val_accuracy: 0.8748\n",
            "Epoch 8/20\n",
            "1719/1719 [==============================] - 5s 3ms/step - loss: 0.3574 - accuracy: 0.8728 - val_loss: 0.3765 - val_accuracy: 0.8688\n",
            "Epoch 9/20\n",
            "1719/1719 [==============================] - 5s 3ms/step - loss: 0.3467 - accuracy: 0.8773 - val_loss: 0.3723 - val_accuracy: 0.8682\n",
            "Epoch 10/20\n",
            "1719/1719 [==============================] - 5s 3ms/step - loss: 0.3368 - accuracy: 0.8799 - val_loss: 0.3582 - val_accuracy: 0.8750\n",
            "Epoch 11/20\n",
            "1719/1719 [==============================] - 5s 3ms/step - loss: 0.3291 - accuracy: 0.8821 - val_loss: 0.3522 - val_accuracy: 0.8756\n",
            "Epoch 12/20\n",
            "1719/1719 [==============================] - 5s 3ms/step - loss: 0.3210 - accuracy: 0.8849 - val_loss: 0.3412 - val_accuracy: 0.8770\n",
            "Epoch 13/20\n",
            "1719/1719 [==============================] - 5s 3ms/step - loss: 0.3120 - accuracy: 0.8882 - val_loss: 0.3466 - val_accuracy: 0.8770\n",
            "Epoch 14/20\n",
            "1719/1719 [==============================] - 6s 3ms/step - loss: 0.3058 - accuracy: 0.8898 - val_loss: 0.3254 - val_accuracy: 0.8830\n",
            "Epoch 15/20\n",
            "1719/1719 [==============================] - 5s 3ms/step - loss: 0.2998 - accuracy: 0.8927 - val_loss: 0.3302 - val_accuracy: 0.8818\n",
            "Epoch 16/20\n",
            "1719/1719 [==============================] - 5s 3ms/step - loss: 0.2937 - accuracy: 0.8946 - val_loss: 0.3333 - val_accuracy: 0.8790\n",
            "Epoch 17/20\n",
            "1719/1719 [==============================] - 5s 3ms/step - loss: 0.2876 - accuracy: 0.8970 - val_loss: 0.3266 - val_accuracy: 0.8844\n",
            "Epoch 18/20\n",
            "1719/1719 [==============================] - 5s 3ms/step - loss: 0.2827 - accuracy: 0.8982 - val_loss: 0.3158 - val_accuracy: 0.8838\n",
            "Epoch 19/20\n",
            "1719/1719 [==============================] - 5s 3ms/step - loss: 0.2776 - accuracy: 0.8999 - val_loss: 0.3136 - val_accuracy: 0.8878\n",
            "Epoch 20/20\n",
            "1719/1719 [==============================] - 5s 3ms/step - loss: 0.2714 - accuracy: 0.9016 - val_loss: 0.3215 - val_accuracy: 0.8858\n"
          ]
        }
      ]
    },
    {
      "cell_type": "markdown",
      "metadata": {
        "id": "-4_yg5MrIWLR"
      },
      "source": [
        "¡Y eso es todo! La red neuronal está entrenada. En cada época durante el entrenamiento, Keras muestra el número de instancias procesadas hasta el momento (junto con una barra de progreso), el tiempo medio de entrenamiento, la pérdida (loss) y la precisión (accuracy), ambas calculadas en el conjunto de entrenamiento y el conjunto de validación.\n",
        "\n",
        "El método `fit()` devuelve un objeto \"History\" que contiene los parámetros de entrenamiento (history.params), la lista de épocas por las que pasó (history.epoch) y, lo más importante, un diccionario (history.history) que contiene el *loss* y las métricas adicionales que midió al final de cada época en el conjunto de entrenamiento y en el conjunto de validación (si corresponde). \n",
        "\n",
        "Visualiza las curvas de aprendizaje guardadas en la variable `history` (creada anteriormente)."
      ]
    },
    {
      "cell_type": "code",
      "metadata": {
        "id": "52WttEpwG54_",
        "colab": {
          "base_uri": "https://localhost:8080/",
          "height": 204
        },
        "outputId": "0178b21d-0f5a-4d7a-8bab-82c8666cf3ac"
      },
      "source": [
        "import pandas as pd\n",
        "df = pd.DataFrame(history.history)\n",
        "df.head()"
      ],
      "execution_count": 165,
      "outputs": [
        {
          "output_type": "execute_result",
          "data": {
            "text/html": [
              "<div>\n",
              "<style scoped>\n",
              "    .dataframe tbody tr th:only-of-type {\n",
              "        vertical-align: middle;\n",
              "    }\n",
              "\n",
              "    .dataframe tbody tr th {\n",
              "        vertical-align: top;\n",
              "    }\n",
              "\n",
              "    .dataframe thead th {\n",
              "        text-align: right;\n",
              "    }\n",
              "</style>\n",
              "<table border=\"1\" class=\"dataframe\">\n",
              "  <thead>\n",
              "    <tr style=\"text-align: right;\">\n",
              "      <th></th>\n",
              "      <th>loss</th>\n",
              "      <th>accuracy</th>\n",
              "      <th>val_loss</th>\n",
              "      <th>val_accuracy</th>\n",
              "    </tr>\n",
              "  </thead>\n",
              "  <tbody>\n",
              "    <tr>\n",
              "      <th>0</th>\n",
              "      <td>0.720430</td>\n",
              "      <td>0.761909</td>\n",
              "      <td>0.503758</td>\n",
              "      <td>0.8288</td>\n",
              "    </tr>\n",
              "    <tr>\n",
              "      <th>1</th>\n",
              "      <td>0.488882</td>\n",
              "      <td>0.830509</td>\n",
              "      <td>0.495995</td>\n",
              "      <td>0.8252</td>\n",
              "    </tr>\n",
              "    <tr>\n",
              "      <th>2</th>\n",
              "      <td>0.445659</td>\n",
              "      <td>0.844182</td>\n",
              "      <td>0.409069</td>\n",
              "      <td>0.8594</td>\n",
              "    </tr>\n",
              "    <tr>\n",
              "      <th>3</th>\n",
              "      <td>0.418151</td>\n",
              "      <td>0.853582</td>\n",
              "      <td>0.395621</td>\n",
              "      <td>0.8668</td>\n",
              "    </tr>\n",
              "    <tr>\n",
              "      <th>4</th>\n",
              "      <td>0.397192</td>\n",
              "      <td>0.860255</td>\n",
              "      <td>0.413697</td>\n",
              "      <td>0.8590</td>\n",
              "    </tr>\n",
              "  </tbody>\n",
              "</table>\n",
              "</div>"
            ],
            "text/plain": [
              "       loss  accuracy  val_loss  val_accuracy\n",
              "0  0.720430  0.761909  0.503758        0.8288\n",
              "1  0.488882  0.830509  0.495995        0.8252\n",
              "2  0.445659  0.844182  0.409069        0.8594\n",
              "3  0.418151  0.853582  0.395621        0.8668\n",
              "4  0.397192  0.860255  0.413697        0.8590"
            ]
          },
          "metadata": {},
          "execution_count": 165
        }
      ]
    },
    {
      "cell_type": "code",
      "metadata": {
        "colab": {
          "base_uri": "https://localhost:8080/",
          "height": 204
        },
        "id": "KYZ7lfbOJ5C6",
        "outputId": "117973a8-19a0-4133-cd83-4ff0efcf8f7b"
      },
      "source": [
        ""
      ],
      "execution_count": null,
      "outputs": [
        {
          "data": {
            "text/html": [
              "<div>\n",
              "<style scoped>\n",
              "    .dataframe tbody tr th:only-of-type {\n",
              "        vertical-align: middle;\n",
              "    }\n",
              "\n",
              "    .dataframe tbody tr th {\n",
              "        vertical-align: top;\n",
              "    }\n",
              "\n",
              "    .dataframe thead th {\n",
              "        text-align: right;\n",
              "    }\n",
              "</style>\n",
              "<table border=\"1\" class=\"dataframe\">\n",
              "  <thead>\n",
              "    <tr style=\"text-align: right;\">\n",
              "      <th></th>\n",
              "      <th>loss</th>\n",
              "      <th>accuracy</th>\n",
              "      <th>val_loss</th>\n",
              "      <th>val_accuracy</th>\n",
              "    </tr>\n",
              "  </thead>\n",
              "  <tbody>\n",
              "    <tr>\n",
              "      <th>0</th>\n",
              "      <td>0.720276</td>\n",
              "      <td>0.765618</td>\n",
              "      <td>0.515778</td>\n",
              "      <td>0.8256</td>\n",
              "    </tr>\n",
              "    <tr>\n",
              "      <th>1</th>\n",
              "      <td>0.489612</td>\n",
              "      <td>0.827473</td>\n",
              "      <td>0.463811</td>\n",
              "      <td>0.8378</td>\n",
              "    </tr>\n",
              "    <tr>\n",
              "      <th>2</th>\n",
              "      <td>0.445222</td>\n",
              "      <td>0.843291</td>\n",
              "      <td>0.416071</td>\n",
              "      <td>0.8592</td>\n",
              "    </tr>\n",
              "    <tr>\n",
              "      <th>3</th>\n",
              "      <td>0.419063</td>\n",
              "      <td>0.852000</td>\n",
              "      <td>0.445251</td>\n",
              "      <td>0.8428</td>\n",
              "    </tr>\n",
              "    <tr>\n",
              "      <th>4</th>\n",
              "      <td>0.397743</td>\n",
              "      <td>0.859800</td>\n",
              "      <td>0.384666</td>\n",
              "      <td>0.8654</td>\n",
              "    </tr>\n",
              "  </tbody>\n",
              "</table>\n",
              "</div>"
            ],
            "text/plain": [
              "       loss  accuracy  val_loss  val_accuracy\n",
              "0  0.720276  0.765618  0.515778        0.8256\n",
              "1  0.489612  0.827473  0.463811        0.8378\n",
              "2  0.445222  0.843291  0.416071        0.8592\n",
              "3  0.419063  0.852000  0.445251        0.8428\n",
              "4  0.397743  0.859800  0.384666        0.8654"
            ]
          },
          "execution_count": 24,
          "metadata": {
            "tags": []
          },
          "output_type": "execute_result"
        }
      ]
    },
    {
      "cell_type": "code",
      "metadata": {
        "colab": {
          "base_uri": "https://localhost:8080/",
          "height": 339
        },
        "id": "ZdQTQ6ty-hZ7",
        "outputId": "eb2b1b9f-bef8-44d3-f96b-b8107383fda8"
      },
      "source": [
        "df.plot(figsize=(8,5))"
      ],
      "execution_count": 166,
      "outputs": [
        {
          "output_type": "execute_result",
          "data": {
            "text/plain": [
              "<matplotlib.axes._subplots.AxesSubplot at 0x7ff2a1bdb450>"
            ]
          },
          "metadata": {},
          "execution_count": 166
        },
        {
          "output_type": "display_data",
          "data": {
            "image/png": "[encoded data removed]",
            "text/plain": [
              "<Figure size 576x360 with 1 Axes>"
            ]
          },
          "metadata": {}
        }
      ]
    },
    {
      "cell_type": "code",
      "metadata": {
        "colab": {
          "base_uri": "https://localhost:8080/",
          "height": 337
        },
        "id": "iZ__dzEIJ6V6",
        "outputId": "7336bf1b-9c35-484f-e137-4af975a2e405"
      },
      "source": [
        ""
      ],
      "execution_count": null,
      "outputs": [
        {
          "data": {
            "text/plain": [
              "<matplotlib.axes._subplots.AxesSubplot at 0x7fd183efab00>"
            ]
          },
          "execution_count": 25,
          "metadata": {
            "tags": []
          },
          "output_type": "execute_result"
        },
        {
          "data": {
            "image/png": "[encoded data removed]",
            "text/plain": [
              "<Figure size 576x360 with 1 Axes>"
            ]
          },
          "metadata": {
            "needs_background": "light",
            "tags": []
          },
          "output_type": "display_data"
        }
      ]
    },
    {
      "cell_type": "markdown",
      "metadata": {
        "id": "cThjfX67LHeP"
      },
      "source": [
        "Se puede ver que tanto la precisión de entrenamiento como la de validación aumentan constantemente durante el entrenamiento, mientras que el *loss* de entrenamiento y validación disminuye. Ademas , las curvas de validación están bastante cerca de las curvas de entrenamiento, lo que significa que no hay demasiado sobreajuste (overfitting).\n",
        "\n",
        "Ahora usemos el modelo ya entrenado sobre nuestros datos de prueba (X_test)."
      ]
    },
    {
      "cell_type": "code",
      "metadata": {
        "colab": {
          "base_uri": "https://localhost:8080/"
        },
        "id": "bNcB3rvK_mup",
        "outputId": "99282d6f-2817-4176-ea0c-216cba4a9b42"
      },
      "source": [
        "model.evaluate(X_test, y_test)\n"
      ],
      "execution_count": 167,
      "outputs": [
        {
          "output_type": "stream",
          "name": "stdout",
          "text": [
            "313/313 [==============================] - 1s 3ms/step - loss: 0.3450 - accuracy: 0.8780\n"
          ]
        },
        {
          "output_type": "execute_result",
          "data": {
            "text/plain": [
              "[0.34498330950737, 0.878000020980835]"
            ]
          },
          "metadata": {},
          "execution_count": 167
        }
      ]
    },
    {
      "cell_type": "code",
      "metadata": {
        "colab": {
          "base_uri": "https://localhost:8080/",
          "height": 51
        },
        "id": "KN71bQZOJ83U",
        "outputId": "ef32087f-02db-4bd9-a637-c56b034b00ef"
      },
      "source": [
        ""
      ],
      "execution_count": null,
      "outputs": [
        {
          "name": "stdout",
          "output_type": "stream",
          "text": [
            "313/313 [==============================] - 1s 2ms/step - loss: 0.3526 - accuracy: 0.8740\n"
          ]
        },
        {
          "data": {
            "text/plain": [
              "[0.3526138663291931, 0.8740000128746033]"
            ]
          },
          "execution_count": 26,
          "metadata": {
            "tags": []
          },
          "output_type": "execute_result"
        }
      ]
    },
    {
      "cell_type": "markdown",
      "metadata": {
        "id": "e4Wa6T_POcT2"
      },
      "source": [
        "## Usando el modelo para hacer predicciones\n",
        "\n",
        "Ahora, podemos usar el método `predict()` para hacer predicciones sobre nuevas instancias. Como no tenemos instancias nuevas reales, solo usaremos las primeras 3 instancias del conjunto de test:"
      ]
    },
    {
      "cell_type": "code",
      "metadata": {
        "colab": {
          "base_uri": "https://localhost:8080/"
        },
        "id": "dWOJ9Oq8AnD6",
        "outputId": "bcb70141-a02d-4005-ac6d-2f0a6b083eef"
      },
      "source": [
        "X_new = X_test[:3]\n",
        "Y_new = y_test[:3]\n",
        "y_proba = model.predict(X_new)\n",
        "y_proba.round(2)"
      ],
      "execution_count": 175,
      "outputs": [
        {
          "output_type": "execute_result",
          "data": {
            "text/plain": [
              "array([[0.  , 0.  , 0.  , 0.  , 0.  , 0.03, 0.  , 0.03, 0.  , 0.93],\n",
              "       [0.  , 0.  , 1.  , 0.  , 0.  , 0.  , 0.  , 0.  , 0.  , 0.  ],\n",
              "       [0.  , 1.  , 0.  , 0.  , 0.  , 0.  , 0.  , 0.  , 0.  , 0.  ]],\n",
              "      dtype=float32)"
            ]
          },
          "metadata": {},
          "execution_count": 175
        }
      ]
    },
    {
      "cell_type": "code",
      "metadata": {
        "colab": {
          "base_uri": "https://localhost:8080/",
          "height": 85
        },
        "id": "2qt8Ros2OUNi",
        "outputId": "d8dff5de-1f5e-459e-fbcd-fe49807a97a2"
      },
      "source": [
        ""
      ],
      "execution_count": null,
      "outputs": [
        {
          "data": {
            "text/plain": [
              "array([[0.1 , 0.02, 0.07, 0.14, 0.01, 0.39, 0.12, 0.1 , 0.03, 0.01],\n",
              "       [0.11, 0.02, 0.07, 0.14, 0.02, 0.36, 0.13, 0.1 , 0.03, 0.01],\n",
              "       [0.11, 0.03, 0.07, 0.15, 0.01, 0.36, 0.13, 0.1 , 0.03, 0.01]],\n",
              "      dtype=float32)"
            ]
          },
          "execution_count": 45,
          "metadata": {
            "tags": []
          },
          "output_type": "execute_result"
        }
      ]
    },
    {
      "cell_type": "markdown",
      "metadata": {
        "id": "3KUjmrVsPLhS"
      },
      "source": [
        "¿Cómo interpretas las salida devuelta al predecir? A continuación utiliza la función `np.argmax` y obtén la clase predicha mediante el vector `class_names` calculado anteriormente."
      ]
    },
    {
      "cell_type": "code",
      "metadata": {
        "colab": {
          "base_uri": "https://localhost:8080/"
        },
        "id": "Fr4kFok9B8jy",
        "outputId": "975e0112-612d-4b63-8e40-f9263531f91e"
      },
      "source": [
        "y_pred = np.argmax(y_proba, axis=1)\n",
        "y_pred\n",
        "\n"
      ],
      "execution_count": 181,
      "outputs": [
        {
          "output_type": "execute_result",
          "data": {
            "text/plain": [
              "array([9, 2, 1])"
            ]
          },
          "metadata": {},
          "execution_count": 181
        }
      ]
    },
    {
      "cell_type": "code",
      "metadata": {
        "id": "PPR1BnheEMcd"
      },
      "source": [
        ""
      ],
      "execution_count": null,
      "outputs": []
    },
    {
      "cell_type": "markdown",
      "metadata": {
        "id": "k0g3v_dvZXVP"
      },
      "source": [
        "Representa visualmente los datos de entrada para comprobar que las predicciones son correcta."
      ]
    },
    {
      "cell_type": "code",
      "metadata": {
        "colab": {
          "base_uri": "https://localhost:8080/",
          "height": 162
        },
        "id": "GvYPE2lKCJVn",
        "outputId": "d1553365-f2ba-40c8-ff41-8cf1c7460d0e"
      },
      "source": [
        "plt.figure(figsize=(7,3))\n",
        "for index, image in enumerate(X_new):\n",
        "  plt.subplot(1,3, index+1)\n",
        "  plt.imshow(image, cmap='binary')\n",
        "  plt.axis('off')\n",
        "  plt.title(Y_new[index])"
      ],
      "execution_count": 182,
      "outputs": [
        {
          "output_type": "display_data",
          "data": {
            "image/png": "[encoded data removed]",
            "text/plain": [
              "<Figure size 504x216 with 3 Axes>"
            ]
          },
          "metadata": {}
        }
      ]
    },
    {
      "cell_type": "code",
      "metadata": {
        "colab": {
          "base_uri": "https://localhost:8080/",
          "height": 185
        },
        "id": "DzpyRq4BPs9Q",
        "outputId": "e74e6738-98c9-495c-de06-da7031fb16dc"
      },
      "source": [
        ""
      ],
      "execution_count": null,
      "outputs": [
        {
          "data": {
            "image/png": "[encoded data removed]",
            "text/plain": [
              "<Figure size 518.4x172.8 with 3 Axes>"
            ]
          },
          "metadata": {
            "tags": []
          },
          "output_type": "display_data"
        }
      ]
    }
  ]
}