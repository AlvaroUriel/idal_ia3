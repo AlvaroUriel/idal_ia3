{
  "nbformat": 4,
  "nbformat_minor": 0,
  "metadata": {
    "colab": {
      "provenance": [],
      "authorship_tag": "ABX9TyOm9ATkQfvhH7qQDTloxTC9",
      "include_colab_link": true
    },
    "kernelspec": {
      "name": "python3",
      "display_name": "Python 3"
    },
    "language_info": {
      "name": "python"
    }
  },
  "cells": [
    {
      "cell_type": "markdown",
      "metadata": {
        "id": "view-in-github",
        "colab_type": "text"
      },
      "source": [
        "<a href=\"https://colab.research.google.com/github/AlvaroUriel/idal_ia3/blob/main/tfm_v1_1_061222.ipynb\" target=\"_parent\"><img src=\"https://colab.research.google.com/assets/colab-badge.svg\" alt=\"Open In Colab\"/></a>"
      ]
    },
    {
      "cell_type": "code",
      "execution_count": 1,
      "metadata": {
        "colab": {
          "base_uri": "https://localhost:8080/"
        },
        "id": "lZgiuqrN96Hj",
        "outputId": "75125e80-c363-499a-ce4a-ec287c747331"
      },
      "outputs": [
        {
          "output_type": "stream",
          "name": "stdout",
          "text": [
            "Mounted at /content/drive/\n"
          ]
        }
      ],
      "source": [
        "from  google.colab import drive\n",
        " \n",
        "drive.mount('/content/drive/')"
      ]
    },
    {
      "cell_type": "code",
      "source": [
        "import numpy as np\n",
        "import pandas as pd\n",
        "import xml.etree.ElementTree as ET\n",
        "\n",
        "import matplotlib.pyplot as plt; \n",
        "from tensorflow.keras.utils import load_img, img_to_array\n",
        "import matplotlib.patches as patches\n",
        "import os\n",
        "import shutil"
      ],
      "metadata": {
        "id": "2PBas49p_ZZw"
      },
      "execution_count": 52,
      "outputs": []
    },
    {
      "cell_type": "code",
      "source": [
        "os.listdir('/content/drive/MyDrive/IA3/TFM/archive/YOLO/')"
      ],
      "metadata": {
        "id": "KP9UWaImrwOs",
        "outputId": "aebd9008-8717-4042-b1b7-ca0c800485f9",
        "colab": {
          "base_uri": "https://localhost:8080/"
        }
      },
      "execution_count": 53,
      "outputs": [
        {
          "output_type": "execute_result",
          "data": {
            "text/plain": [
              "['annotations1',\n",
              " 'images1',\n",
              " 'images0',\n",
              " 'images',\n",
              " 'labels0',\n",
              " 'labels',\n",
              " 'annotations0',\n",
              " 'annotations']"
            ]
          },
          "metadata": {},
          "execution_count": 53
        }
      ]
    },
    {
      "cell_type": "code",
      "source": [
        "#!cp -r /content/drive/MyDrive/IA3/TFM/archive/images /content/drive/MyDrive/IA3/TFM/archive/YOLO"
      ],
      "metadata": {
        "id": "0u1ehlpV6VIG"
      },
      "execution_count": null,
      "outputs": []
    },
    {
      "cell_type": "code",
      "source": [
        "#!cp -r /content/drive/MyDrive/IA3/TFM/archive/annotations /content/drive/MyDrive/IA3/TFM/archive/YOLO"
      ],
      "metadata": {
        "id": "FRvMd2p17oeb"
      },
      "execution_count": null,
      "outputs": []
    },
    {
      "cell_type": "code",
      "source": [
        "# Convert Pascal_Voc bb to Yolo\n",
        "def pascal_voc_to_yolo(x1, y1, x2, y2, image_w, image_h):\n",
        "    return [((x2 + x1)/(2*image_w)), ((y2 + y1)/(2*image_h)), (x2 - x1)/image_w, (y2 - y1)/image_h]"
      ],
      "metadata": {
        "id": "Otp8v2gYADIj"
      },
      "execution_count": 54,
      "outputs": []
    },
    {
      "cell_type": "code",
      "source": [
        "newlist=[]"
      ],
      "metadata": {
        "id": "RU5zqJIHuFk3"
      },
      "execution_count": 55,
      "outputs": []
    },
    {
      "cell_type": "code",
      "source": [
        "for name in os.listdir('/content/drive/MyDrive/IA3/TFM/archive/croppedImages1'):\n",
        "  newlist.append(name[:-4].split('_')[3])"
      ],
      "metadata": {
        "id": "uYSKqq72uIWe"
      },
      "execution_count": 56,
      "outputs": []
    },
    {
      "cell_type": "code",
      "source": [
        "#Solo copia una vez cada imagen de la carpeta de imagenes \"limpiadas\",\n",
        "# da igual que este repetido el nombre solo deja una copia\n",
        "for name in newlist:\n",
        "  pathImg='/content/drive/MyDrive/IA3/TFM/archive/images/' + name + '.png'\n",
        "  shutil.copyfile(pathImg, '/content/drive/MyDrive/IA3/TFM/archive/YOLO/images1/'+ name + '.png')\n",
        "  \n",
        "  pathAnnot='/content/drive/MyDrive/IA3/TFM/archive/annotations/' + name + '.xml'\n",
        "  shutil.copyfile(pathAnnot, '/content/drive/MyDrive/IA3/TFM/archive/YOLO/annotations1/'+ name + '.xml')"
      ],
      "metadata": {
        "id": "wQ7bGc5mwM_s"
      },
      "execution_count": 57,
      "outputs": []
    },
    {
      "cell_type": "code",
      "source": [
        "#!mkdir /content/drive/MyDrive/IA3/TFM/archive/YOLO/labels1/"
      ],
      "metadata": {
        "colab": {
          "base_uri": "https://localhost:8080/"
        },
        "id": "R8eMyP6GGAB9",
        "outputId": "4d59c2b0-aca0-4adf-b3af-d6e6d236d089"
      },
      "execution_count": null,
      "outputs": [
        {
          "output_type": "stream",
          "name": "stdout",
          "text": [
            "mkdir: cannot create directory ‘/content/drive/MyDrive/IA3/TFM/archive/YOLO/labels/’: File exists\n"
          ]
        }
      ]
    },
    {
      "cell_type": "code",
      "source": [
        "#Generamos todos los labels apartir de las annotations\n",
        "bGenLabels = 0\n",
        "if(bGenLabels):\n",
        "\n",
        "  xml_path      = '/content/drive/MyDrive/IA3/TFM/archive/YOLO/annotations1/'\n",
        "  txt_path      = '/content/drive/MyDrive/IA3/TFM/archive/YOLO/labels1/'\n",
        "\n",
        "  contenido = os.listdir(xml_path)\n",
        "\n",
        "  for fichero in contenido:\n",
        "    if fichero.endswith('.xml'):\n",
        "      \n",
        "      tree=ET.parse(xml_path+fichero)\n",
        "\n",
        "      imgW = int (tree.find('size').find('width').text)\n",
        "      imgH = int (tree.find('size').find('height').text)\n",
        "\n",
        "      nuevo_archivo = open(txt_path+fichero[:-3]+'txt', \"w\")\n",
        "\n",
        "      for element in tree.findall('object'):\n",
        "\n",
        "        xmin = int(element.find(\"bndbox\").find('xmin').text)\n",
        "        ymin = int(element.find(\"bndbox\").find('ymin').text)\n",
        "        xmax = int(element.find(\"bndbox\").find('xmax').text)\n",
        "        ymax = int(element.find(\"bndbox\").find('ymax').text)\n",
        "\n",
        "        p = pascal_voc_to_yolo(xmin, ymin, xmax, ymax, imgW, imgH)\n",
        "\n",
        "        nuevo_archivo.write(str(0) + \" \" + str(p[0]) + \" \" + str(p[1]) + \" \" + str(p[2]) + \" \" + str(p[3]) + \"\\n\")\n",
        "\n",
        "      nuevo_archivo.close()  "
      ],
      "metadata": {
        "id": "Bk8xd3i4oc35"
      },
      "execution_count": 58,
      "outputs": []
    },
    {
      "cell_type": "code",
      "source": [
        "#!mkdir /content/drive/MyDrive/IA3/TFM/archive/YOLO/train_data/\n",
        "#!mkdir /content/drive/MyDrive/IA3/TFM/archive/YOLO/train_data/images/\n",
        "#!mkdir /content/drive/MyDrive/IA3/TFM/archive/YOLO/train_data/images/train/\n",
        "#!mkdir /content/drive/MyDrive/IA3/TFM/archive/YOLO/train_data/images/val/\n",
        "#!mkdir /content/drive/MyDrive/IA3/TFM/archive/YOLO/train_data/labels/\n",
        "#!mkdir /content/drive/MyDrive/IA3/TFM/archive/YOLO/train_data/labels/train/\n",
        "#!mkdir /content/drive/MyDrive/IA3/TFM/archive/YOLO/train_data/labels/val/"
      ],
      "metadata": {
        "id": "eoYt62M81Zhn",
        "outputId": "01a9c946-b7af-478d-d998-c5ddcb9cf4e1",
        "colab": {
          "base_uri": "https://localhost:8080/"
        }
      },
      "execution_count": 61,
      "outputs": [
        {
          "output_type": "stream",
          "name": "stdout",
          "text": [
            "mkdir: cannot create directory ‘/content/drive/MyDrive/IA3/TFM/archive/YOLO/train_data/’: File exists\n"
          ]
        }
      ]
    },
    {
      "cell_type": "code",
      "source": [
        "#Generamos la estructura de directorios de entrenamiento\n",
        "bSplit = 0\n",
        "if(bSplit):\n",
        "\n",
        "  img_path      = '/content/drive/MyDrive/IA3/TFM/archive/YOLO/images1/'\n",
        "  txt_path      = '/content/drive/MyDrive/IA3/TFM/archive/YOLO/labels1/'\n",
        "\n",
        "  img_train_path  = '/content/drive/MyDrive/IA3/TFM/archive/YOLO/train_data/images/train/'\n",
        "  img_val_path    = '/content/drive/MyDrive/IA3/TFM/archive/YOLO/train_data/images/val/'\n",
        "\n",
        "  txt_train_path  = '/content/drive/MyDrive/IA3/TFM/archive/YOLO/train_data/labels/train/'\n",
        "  txt_val_path    = '/content/drive/MyDrive/IA3/TFM/archive/YOLO/train_data/labels/val/'\n",
        "\n",
        "  contenido = os.listdir(img_path)\n",
        "  percTrain = int(len(contenido)*70/100)\n",
        "\n",
        "  cont=0\n",
        "\n",
        "  for fichero in contenido:\n",
        "    if fichero.endswith('.png'):      \n",
        "      if(cont<percTrain):\n",
        "        shutil.copyfile(img_path+fichero[:-3]+'png', img_train_path+fichero[:-3]+'png')\n",
        "        shutil.copyfile(txt_path+fichero[:-3]+'txt', txt_train_path+fichero[:-3]+'txt')\n",
        "      else:\n",
        "        shutil.copyfile(img_path+fichero[:-3]+'png', img_val_path+fichero[:-3]+'png')\n",
        "        shutil.copyfile(txt_path+fichero[:-3]+'txt', txt_val_path+fichero[:-3]+'txt')\n",
        "\n",
        "      cont=cont+1"
      ],
      "metadata": {
        "id": "1Fe70PGp9QOS"
      },
      "execution_count": 62,
      "outputs": []
    },
    {
      "cell_type": "code",
      "source": [
        "print(len(os.listdir(img_train_path)))\n",
        "print(len(os.listdir(img_val_path)))\n",
        "print(len(os.listdir(txt_train_path)))\n",
        "print(len(os.listdir(txt_val_path)))"
      ],
      "metadata": {
        "id": "_g29kfBr2Yal",
        "outputId": "bc719b92-b419-47fa-f890-82238b61eba5",
        "colab": {
          "base_uri": "https://localhost:8080/"
        }
      },
      "execution_count": 66,
      "outputs": [
        {
          "output_type": "stream",
          "name": "stdout",
          "text": [
            "482\n",
            "207\n",
            "482\n",
            "207\n"
          ]
        }
      ]
    }
  ]
}