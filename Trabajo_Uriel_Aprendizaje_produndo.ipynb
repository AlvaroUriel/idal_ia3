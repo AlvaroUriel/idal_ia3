{
  "nbformat": 4,
  "nbformat_minor": 0,
  "metadata": {
    "colab": {
      "name": "Trabajo_Uriel_Aprendizaje_produndo.ipynb",
      "provenance": [],
      "authorship_tag": "ABX9TyNb8t7yvtvl2nbcOGSX7aMD",
      "include_colab_link": true
    },
    "kernelspec": {
      "name": "python3",
      "display_name": "Python 3"
    },
    "language_info": {
      "name": "python"
    }
  },
  "cells": [
    {
      "cell_type": "markdown",
      "metadata": {
        "id": "view-in-github",
        "colab_type": "text"
      },
      "source": [
        "<a href=\"https://colab.research.google.com/github/AlvaroUriel/idal_ia3/blob/main/Trabajo_Uriel_Aprendizaje_produndo.ipynb\" target=\"_parent\"><img src=\"https://colab.research.google.com/assets/colab-badge.svg\" alt=\"Open In Colab\"/></a>"
      ]
    },
    {
      "cell_type": "code",
      "execution_count": 11,
      "metadata": {
        "colab": {
          "base_uri": "https://localhost:8080/"
        },
        "id": "2xyWzV9nw8Ol",
        "outputId": "c3cdf191-3883-4c18-cecf-a53f446a9f7f"
      },
      "outputs": [
        {
          "output_type": "stream",
          "name": "stdout",
          "text": [
            "Drive already mounted at /content/drive/; to attempt to forcibly remount, call drive.mount(\"/content/drive/\", force_remount=True).\n"
          ]
        }
      ],
      "source": [
        "from  google.colab import drive\n",
        " \n",
        "drive.mount('/content/drive/')"
      ]
    },
    {
      "cell_type": "code",
      "source": [
        "train_path = '/content/drive/MyDrive/IA3/Datasets/Food-3/training'\n",
        "val_path   = '/content/drive/MyDrive/IA3/Datasets/Food-3/validation'\n",
        "test_path   = '/content/drive/MyDrive/IA3/Datasets/Food-3/evaluation'"
      ],
      "metadata": {
        "id": "uZpt_c8G2qRh"
      },
      "execution_count": 17,
      "outputs": []
    },
    {
      "cell_type": "code",
      "source": [
        "import os"
      ],
      "metadata": {
        "id": "A_Xa8maP3fZd"
      },
      "execution_count": 13,
      "outputs": []
    },
    {
      "cell_type": "code",
      "source": [
        "#Creamos listas con todos los nombres de los ficheros \n",
        "train = [os.path.join(train_path,img) for img in os.listdir(train_path)]\n",
        "val   = [os.path.join(val_path,img) for img in os.listdir(val_path)]\n",
        "test   = [os.path.join(val_path,img) for img in os.listdir(val_path)]"
      ],
      "metadata": {
        "id": "56m2QCk13Uaz"
      },
      "execution_count": 21,
      "outputs": []
    }
  ]
}