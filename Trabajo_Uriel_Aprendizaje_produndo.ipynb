{
  "nbformat": 4,
  "nbformat_minor": 0,
  "metadata": {
    "colab": {
      "name": "Trabajo_Uriel_Aprendizaje_produndo.ipynb",
      "provenance": [],
      "authorship_tag": "ABX9TyNbI78NYkN+Bo6varyFRSBK",
      "include_colab_link": true
    },
    "kernelspec": {
      "name": "python3",
      "display_name": "Python 3"
    },
    "language_info": {
      "name": "python"
    }
  },
  "cells": [
    {
      "cell_type": "markdown",
      "metadata": {
        "id": "view-in-github",
        "colab_type": "text"
      },
      "source": [
        "<a href=\"https://colab.research.google.com/github/AlvaroUriel/idal_ia3/blob/main/Trabajo_Uriel_Aprendizaje_produndo.ipynb\" target=\"_parent\"><img src=\"https://colab.research.google.com/assets/colab-badge.svg\" alt=\"Open In Colab\"/></a>"
      ]
    },
    {
      "cell_type": "code",
      "execution_count": 11,
      "metadata": {
        "colab": {
          "base_uri": "https://localhost:8080/"
        },
        "id": "2xyWzV9nw8Ol",
        "outputId": "c3cdf191-3883-4c18-cecf-a53f446a9f7f"
      },
      "outputs": [
        {
          "output_type": "stream",
          "name": "stdout",
          "text": [
            "Drive already mounted at /content/drive/; to attempt to forcibly remount, call drive.mount(\"/content/drive/\", force_remount=True).\n"
          ]
        }
      ],
      "source": [
        "from  google.colab import drive\n",
        " \n",
        "drive.mount('/content/drive/')"
      ]
    },
    {
      "cell_type": "code",
      "source": [
        "train_path = '/content/drive/MyDrive/IA3/Datasets/Food-3/training'\n",
        "val_path   = '/content/drive/MyDrive/IA3/Datasets/Food-3/validation'\n",
        "test_path   = '/content/drive/MyDrive/IA3/Datasets/Food-3/evaluation'"
      ],
      "metadata": {
        "id": "uZpt_c8G2qRh"
      },
      "execution_count": 24,
      "outputs": []
    },
    {
      "cell_type": "code",
      "source": [
        "import os\n",
        "import numpy as np\n",
        "\n",
        "# Keras\n",
        "from keras.utils import np_utils"
      ],
      "metadata": {
        "id": "A_Xa8maP3fZd"
      },
      "execution_count": 30,
      "outputs": []
    },
    {
      "cell_type": "code",
      "source": [
        "#Creamos listas con todos los nombres de los ficheros \n",
        "train = [os.path.join(train_path,img) for img in os.listdir(train_path)]\n",
        "val   = [os.path.join(val_path,img) for img in os.listdir(val_path)]\n",
        "test   = [os.path.join(val_path,img) for img in os.listdir(val_path)]\n",
        "\n",
        "\n",
        "len(train),len(val),len(test)"
      ],
      "metadata": {
        "colab": {
          "base_uri": "https://localhost:8080/"
        },
        "id": "56m2QCk13Uaz",
        "outputId": "6f12a80a-5072-48e6-9678-143f2c3686fe"
      },
      "execution_count": 34,
      "outputs": [
        {
          "output_type": "execute_result",
          "data": {
            "text/plain": [
              "(2923, 301, 301)"
            ]
          },
          "metadata": {},
          "execution_count": 34
        }
      ]
    },
    {
      "cell_type": "code",
      "source": [
        "train[0:3]"
      ],
      "metadata": {
        "colab": {
          "base_uri": "https://localhost:8080/"
        },
        "id": "xTrOaYYZ5Uid",
        "outputId": "29f211f7-7c38-4a96-91b1-13fca0ba9512"
      },
      "execution_count": 28,
      "outputs": [
        {
          "output_type": "execute_result",
          "data": {
            "text/plain": [
              "['/content/drive/MyDrive/IA3/Datasets/Food-3/training/1_185.jpg',\n",
              " '/content/drive/MyDrive/IA3/Datasets/Food-3/training/2_249.jpg',\n",
              " '/content/drive/MyDrive/IA3/Datasets/Food-3/training/1_361.jpg']"
            ]
          },
          "metadata": {},
          "execution_count": 28
        }
      ]
    },
    {
      "cell_type": "code",
      "source": [
        "#Troceamos por la ultima '/' y por '_' para quedarnos el primer numero y lo pasamos a entero\n",
        "train_y = [int(img.split(\"/\")[-1].split(\"_\")[0]) for img in train]\n",
        "val_y = [int(img.split(\"/\")[-1].split(\"_\")[0]) for img in val]\n",
        "test_y = [int(img.split(\"/\")[-1].split(\"_\")[0]) for img in test]\n",
        "num_classes = 3\n",
        "\n",
        "#One hot encoding para tener las etiquetas\n",
        "y_train = np_utils.to_categorical(train_y, num_classes)\n",
        "y_val = np_utils.to_categorical(val_y, num_classes)\n",
        "y_test = np_utils.to_categorical(test_y, num_classes)"
      ],
      "metadata": {
        "id": "Dhei0S0R5W8j"
      },
      "execution_count": 33,
      "outputs": []
    },
    {
      "cell_type": "code",
      "source": [
        "#Vemos lo que obtenemos con el 'one hot'\n",
        "print(train_y[0:20])\n",
        "print(y_train[0:20])"
      ],
      "metadata": {
        "id": "iY6j-T8U5xHD"
      },
      "execution_count": null,
      "outputs": []
    },
    {
      "cell_type": "code",
      "source": [
        "print(\"Datos de entrenamiento en: \" + num_classes )\n"
      ],
      "metadata": {
        "colab": {
          "base_uri": "https://localhost:8080/",
          "height": 164
        },
        "id": "xvCSFeMc7PaH",
        "outputId": "24a47390-8bc4-4c11-a990-39b4aab8176d"
      },
      "execution_count": 44,
      "outputs": [
        {
          "output_type": "error",
          "ename": "TypeError",
          "evalue": "ignored",
          "traceback": [
            "\u001b[0;31m---------------------------------------------------------------------------\u001b[0m",
            "\u001b[0;31mTypeError\u001b[0m                                 Traceback (most recent call last)",
            "\u001b[0;32m<ipython-input-44-78a7e276144f>\u001b[0m in \u001b[0;36m<module>\u001b[0;34m()\u001b[0m\n\u001b[0;32m----> 1\u001b[0;31m \u001b[0mprint\u001b[0m\u001b[0;34m(\u001b[0m\u001b[0;34m\"Datos de entrenamiento en: \"\u001b[0m \u001b[0;34m+\u001b[0m \u001b[0mnum_classes\u001b[0m \u001b[0;34m)\u001b[0m\u001b[0;34m\u001b[0m\u001b[0;34m\u001b[0m\u001b[0m\n\u001b[0m",
            "\u001b[0;31mTypeError\u001b[0m: can only concatenate str (not \"int\") to str"
          ]
        }
      ]
    }
  ]
}